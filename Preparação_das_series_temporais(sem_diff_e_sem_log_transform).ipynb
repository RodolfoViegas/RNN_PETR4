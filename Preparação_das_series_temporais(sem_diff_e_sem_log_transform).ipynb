{
  "nbformat": 4,
  "nbformat_minor": 0,
  "metadata": {
    "colab": {
      "name": "Preparação_das_series_temporais(sem diff e sem log_transform).ipynb",
      "provenance": [],
      "collapsed_sections": [],
      "mount_file_id": "1rUsWA88SWo0xHAZ0RXAfwAucEOXY0vVD",
      "authorship_tag": "ABX9TyO9hl+ceejesMvCOI5zkmMy",
      "include_colab_link": true
    },
    "kernelspec": {
      "name": "python3",
      "display_name": "Python 3"
    },
    "accelerator": "GPU"
  },
  "cells": [
    {
      "cell_type": "markdown",
      "metadata": {
        "id": "view-in-github",
        "colab_type": "text"
      },
      "source": [
        "<a href=\"https://colab.research.google.com/github/RodolfoViegas/RNN_PETR4/blob/master/Prepara%C3%A7%C3%A3o_das_series_temporais(sem_diff_e_sem_log_transform).ipynb\" target=\"_parent\"><img src=\"https://colab.research.google.com/assets/colab-badge.svg\" alt=\"Open In Colab\"/></a>"
      ]
    },
    {
      "cell_type": "markdown",
      "metadata": {
        "id": "xtdi6GE7deV3",
        "colab_type": "text"
      },
      "source": [
        "# Modelagem de RNN para séries temporais PETR4 - de janeiro de 2000 a junho de 2020\n",
        "\n",
        "Este trabalho tem por objetivo desenvolver uma rede neural recorrente LSTM que modele as séries temporais PETR4 da Petrobrás do tipo preferenciais, as sem direito a voto. Tais dados foram retirados do site *Yahoo! Finance*.\n",
        "\n",
        "Será dada preferência a previsão dos valores de fechamento das ações (coluna Close no dataset). Assim fazendo um modelo univariado de RNN. A escolha da LSTM para os treinos deve-se ao melhor poder para lidar com sequência de grande tamanho. A rede possui 3 camadas escondidas, a primeira com 207 células de memória e a segunda com 100 e a última densamente conectada com 50 neurônios."
      ]
    },
    {
      "cell_type": "code",
      "metadata": {
        "id": "GffATYGHJazm",
        "colab_type": "code",
        "colab": {}
      },
      "source": [
        "import pandas as pd\n",
        "import numpy as np\n",
        "from sklearn.preprocessing import MinMaxScaler\n",
        "import tensorflow as tf\n",
        "import matplotlib.pyplot as plt"
      ],
      "execution_count": 1,
      "outputs": []
    },
    {
      "cell_type": "code",
      "metadata": {
        "id": "it6s43eIQ2Pj",
        "colab_type": "code",
        "colab": {
          "resources": {
            "http://localhost:8080/nbextensions/google.colab/files.js": {
              "data": "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",
              "ok": true,
              "headers": [
                [
                  "content-type",
                  "application/javascript"
                ]
              ],
              "status": 200,
              "status_text": "OK"
            }
          },
          "base_uri": "https://localhost:8080/",
          "height": 79
        },
        "outputId": "569adcee-1ca0-4d46-f7f1-80a94efef19a"
      },
      "source": [
        "from google.colab import files\n",
        "uploaded = files.upload()"
      ],
      "execution_count": 2,
      "outputs": [
        {
          "output_type": "display_data",
          "data": {
            "text/html": [
              "\n",
              "     <input type=\"file\" id=\"files-674f3072-a9ea-417c-8f0e-a808b8e48000\" name=\"files[]\" multiple disabled\n",
              "        style=\"border:none\" />\n",
              "     <output id=\"result-674f3072-a9ea-417c-8f0e-a808b8e48000\">\n",
              "      Upload widget is only available when the cell has been executed in the\n",
              "      current browser session. Please rerun this cell to enable.\n",
              "      </output>\n",
              "      <script src=\"/nbextensions/google.colab/files.js\"></script> "
            ],
            "text/plain": [
              "<IPython.core.display.HTML object>"
            ]
          },
          "metadata": {
            "tags": []
          }
        },
        {
          "output_type": "stream",
          "text": [
            "Saving PETR4.SA.csv to PETR4.SA.csv\n"
          ],
          "name": "stdout"
        }
      ]
    },
    {
      "cell_type": "code",
      "metadata": {
        "id": "OpavfP6qRIUe",
        "colab_type": "code",
        "colab": {}
      },
      "source": [
        "df = pd.read_csv('/content/PETR4.SA.csv')"
      ],
      "execution_count": 3,
      "outputs": []
    },
    {
      "cell_type": "code",
      "metadata": {
        "id": "qJsUDHWcRcGz",
        "colab_type": "code",
        "colab": {
          "base_uri": "https://localhost:8080/",
          "height": 206
        },
        "outputId": "90e66e57-5eb4-452f-a092-d2b51081550f"
      },
      "source": [
        "df.head()"
      ],
      "execution_count": 4,
      "outputs": [
        {
          "output_type": "execute_result",
          "data": {
            "text/html": [
              "<div>\n",
              "<style scoped>\n",
              "    .dataframe tbody tr th:only-of-type {\n",
              "        vertical-align: middle;\n",
              "    }\n",
              "\n",
              "    .dataframe tbody tr th {\n",
              "        vertical-align: top;\n",
              "    }\n",
              "\n",
              "    .dataframe thead th {\n",
              "        text-align: right;\n",
              "    }\n",
              "</style>\n",
              "<table border=\"1\" class=\"dataframe\">\n",
              "  <thead>\n",
              "    <tr style=\"text-align: right;\">\n",
              "      <th></th>\n",
              "      <th>Date</th>\n",
              "      <th>Open</th>\n",
              "      <th>High</th>\n",
              "      <th>Low</th>\n",
              "      <th>Close</th>\n",
              "      <th>Adj Close</th>\n",
              "      <th>Volume</th>\n",
              "    </tr>\n",
              "  </thead>\n",
              "  <tbody>\n",
              "    <tr>\n",
              "      <th>0</th>\n",
              "      <td>2000-01-03</td>\n",
              "      <td>5.875</td>\n",
              "      <td>5.875</td>\n",
              "      <td>5.875</td>\n",
              "      <td>5.875</td>\n",
              "      <td>4.050183</td>\n",
              "      <td>3.538944e+10</td>\n",
              "    </tr>\n",
              "    <tr>\n",
              "      <th>1</th>\n",
              "      <td>2000-01-04</td>\n",
              "      <td>5.550</td>\n",
              "      <td>5.550</td>\n",
              "      <td>5.550</td>\n",
              "      <td>5.550</td>\n",
              "      <td>3.826131</td>\n",
              "      <td>2.886144e+10</td>\n",
              "    </tr>\n",
              "    <tr>\n",
              "      <th>2</th>\n",
              "      <td>2000-01-05</td>\n",
              "      <td>5.494</td>\n",
              "      <td>5.494</td>\n",
              "      <td>5.494</td>\n",
              "      <td>5.494</td>\n",
              "      <td>3.787526</td>\n",
              "      <td>4.303360e+10</td>\n",
              "    </tr>\n",
              "    <tr>\n",
              "      <th>3</th>\n",
              "      <td>2000-01-06</td>\n",
              "      <td>5.475</td>\n",
              "      <td>5.475</td>\n",
              "      <td>5.475</td>\n",
              "      <td>5.475</td>\n",
              "      <td>3.774427</td>\n",
              "      <td>3.405568e+10</td>\n",
              "    </tr>\n",
              "    <tr>\n",
              "      <th>4</th>\n",
              "      <td>2000-01-07</td>\n",
              "      <td>5.500</td>\n",
              "      <td>5.500</td>\n",
              "      <td>5.500</td>\n",
              "      <td>5.500</td>\n",
              "      <td>3.791661</td>\n",
              "      <td>2.091264e+10</td>\n",
              "    </tr>\n",
              "  </tbody>\n",
              "</table>\n",
              "</div>"
            ],
            "text/plain": [
              "         Date   Open   High    Low  Close  Adj Close        Volume\n",
              "0  2000-01-03  5.875  5.875  5.875  5.875   4.050183  3.538944e+10\n",
              "1  2000-01-04  5.550  5.550  5.550  5.550   3.826131  2.886144e+10\n",
              "2  2000-01-05  5.494  5.494  5.494  5.494   3.787526  4.303360e+10\n",
              "3  2000-01-06  5.475  5.475  5.475  5.475   3.774427  3.405568e+10\n",
              "4  2000-01-07  5.500  5.500  5.500  5.500   3.791661  2.091264e+10"
            ]
          },
          "metadata": {
            "tags": []
          },
          "execution_count": 4
        }
      ]
    },
    {
      "cell_type": "code",
      "metadata": {
        "id": "el1hOsl1Geds",
        "colab_type": "code",
        "colab": {
          "base_uri": "https://localhost:8080/",
          "height": 206
        },
        "outputId": "08edc57e-f721-4531-d4f6-b8544ff907e6"
      },
      "source": [
        "df.tail()"
      ],
      "execution_count": 5,
      "outputs": [
        {
          "output_type": "execute_result",
          "data": {
            "text/html": [
              "<div>\n",
              "<style scoped>\n",
              "    .dataframe tbody tr th:only-of-type {\n",
              "        vertical-align: middle;\n",
              "    }\n",
              "\n",
              "    .dataframe tbody tr th {\n",
              "        vertical-align: top;\n",
              "    }\n",
              "\n",
              "    .dataframe thead th {\n",
              "        text-align: right;\n",
              "    }\n",
              "</style>\n",
              "<table border=\"1\" class=\"dataframe\">\n",
              "  <thead>\n",
              "    <tr style=\"text-align: right;\">\n",
              "      <th></th>\n",
              "      <th>Date</th>\n",
              "      <th>Open</th>\n",
              "      <th>High</th>\n",
              "      <th>Low</th>\n",
              "      <th>Close</th>\n",
              "      <th>Adj Close</th>\n",
              "      <th>Volume</th>\n",
              "    </tr>\n",
              "  </thead>\n",
              "  <tbody>\n",
              "    <tr>\n",
              "      <th>5138</th>\n",
              "      <td>2020-06-03</td>\n",
              "      <td>21.860001</td>\n",
              "      <td>21.910000</td>\n",
              "      <td>21.410000</td>\n",
              "      <td>21.469999</td>\n",
              "      <td>21.469999</td>\n",
              "      <td>86219700.0</td>\n",
              "    </tr>\n",
              "    <tr>\n",
              "      <th>5139</th>\n",
              "      <td>2020-06-04</td>\n",
              "      <td>21.389999</td>\n",
              "      <td>21.780001</td>\n",
              "      <td>21.040001</td>\n",
              "      <td>21.430000</td>\n",
              "      <td>21.430000</td>\n",
              "      <td>107401400.0</td>\n",
              "    </tr>\n",
              "    <tr>\n",
              "      <th>5140</th>\n",
              "      <td>2020-06-05</td>\n",
              "      <td>22.290001</td>\n",
              "      <td>23.030001</td>\n",
              "      <td>22.059999</td>\n",
              "      <td>22.100000</td>\n",
              "      <td>22.100000</td>\n",
              "      <td>114137700.0</td>\n",
              "    </tr>\n",
              "    <tr>\n",
              "      <th>5141</th>\n",
              "      <td>2020-06-08</td>\n",
              "      <td>22.549999</td>\n",
              "      <td>22.590000</td>\n",
              "      <td>22.010000</td>\n",
              "      <td>22.530001</td>\n",
              "      <td>22.530001</td>\n",
              "      <td>82444400.0</td>\n",
              "    </tr>\n",
              "    <tr>\n",
              "      <th>5142</th>\n",
              "      <td>2020-06-09</td>\n",
              "      <td>22.030001</td>\n",
              "      <td>22.040001</td>\n",
              "      <td>21.639999</td>\n",
              "      <td>21.719999</td>\n",
              "      <td>21.719999</td>\n",
              "      <td>96488300.0</td>\n",
              "    </tr>\n",
              "  </tbody>\n",
              "</table>\n",
              "</div>"
            ],
            "text/plain": [
              "            Date       Open       High  ...      Close  Adj Close       Volume\n",
              "5138  2020-06-03  21.860001  21.910000  ...  21.469999  21.469999   86219700.0\n",
              "5139  2020-06-04  21.389999  21.780001  ...  21.430000  21.430000  107401400.0\n",
              "5140  2020-06-05  22.290001  23.030001  ...  22.100000  22.100000  114137700.0\n",
              "5141  2020-06-08  22.549999  22.590000  ...  22.530001  22.530001   82444400.0\n",
              "5142  2020-06-09  22.030001  22.040001  ...  21.719999  21.719999   96488300.0\n",
              "\n",
              "[5 rows x 7 columns]"
            ]
          },
          "metadata": {
            "tags": []
          },
          "execution_count": 5
        }
      ]
    },
    {
      "cell_type": "code",
      "metadata": {
        "id": "c2gkgwfVGlHl",
        "colab_type": "code",
        "colab": {
          "base_uri": "https://localhost:8080/",
          "height": 260
        },
        "outputId": "ef7a2b9d-e9bd-488f-bbf1-364d577488e2"
      },
      "source": [
        "df.info()"
      ],
      "execution_count": 6,
      "outputs": [
        {
          "output_type": "stream",
          "text": [
            "<class 'pandas.core.frame.DataFrame'>\n",
            "RangeIndex: 5143 entries, 0 to 5142\n",
            "Data columns (total 7 columns):\n",
            " #   Column     Non-Null Count  Dtype  \n",
            "---  ------     --------------  -----  \n",
            " 0   Date       5143 non-null   object \n",
            " 1   Open       5026 non-null   float64\n",
            " 2   High       5026 non-null   float64\n",
            " 3   Low        5026 non-null   float64\n",
            " 4   Close      5026 non-null   float64\n",
            " 5   Adj Close  5026 non-null   float64\n",
            " 6   Volume     5026 non-null   float64\n",
            "dtypes: float64(6), object(1)\n",
            "memory usage: 281.4+ KB\n"
          ],
          "name": "stdout"
        }
      ]
    },
    {
      "cell_type": "code",
      "metadata": {
        "id": "g0_lmvhLnEgA",
        "colab_type": "code",
        "colab": {}
      },
      "source": [
        "# Exclusão de dados faltantes\n",
        "\n",
        "df.dropna(inplace=True)"
      ],
      "execution_count": 7,
      "outputs": []
    },
    {
      "cell_type": "code",
      "metadata": {
        "id": "6y1rLPyYSRFX",
        "colab_type": "code",
        "colab": {
          "base_uri": "https://localhost:8080/",
          "height": 34
        },
        "outputId": "edbda75f-5ca1-42fe-8761-4d16db12c310"
      },
      "source": [
        "df.shape "
      ],
      "execution_count": 8,
      "outputs": [
        {
          "output_type": "execute_result",
          "data": {
            "text/plain": [
              "(5026, 7)"
            ]
          },
          "metadata": {
            "tags": []
          },
          "execution_count": 8
        }
      ]
    },
    {
      "cell_type": "code",
      "metadata": {
        "id": "5KOr5zTAhDpJ",
        "colab_type": "code",
        "colab": {}
      },
      "source": [
        "df['Date'] = pd.to_datetime(df['Date'])"
      ],
      "execution_count": 9,
      "outputs": []
    },
    {
      "cell_type": "code",
      "metadata": {
        "id": "NqnYp4gscCvW",
        "colab_type": "code",
        "colab": {
          "base_uri": "https://localhost:8080/",
          "height": 390
        },
        "outputId": "fe589040-c948-4339-be50-6cd8b9642766"
      },
      "source": [
        "plt.figure(figsize=(18,6))\n",
        "plt.title(\"Ações PETR4 de 2000 a 2019\")\n",
        "plt.plot(df['Date'],df['Close'])\n",
        "\n",
        "plt.show()"
      ],
      "execution_count": 10,
      "outputs": [
        {
          "output_type": "display_data",
          "data": {
            "image/png": "[encoded data removed]",
            "text/plain": [
              "<Figure size 1296x432 with 1 Axes>"
            ]
          },
          "metadata": {
            "tags": [],
            "needs_background": "light"
          }
        }
      ]
    },
    {
      "cell_type": "markdown",
      "metadata": {
        "id": "uEgfQMqkRhFb",
        "colab_type": "text"
      },
      "source": [
        "## A primeira vista dos dados plotados é possível especular características de não-estacionaridade. A baixo foram realizados teste simples que indicam essa possibilidade."
      ]
    },
    {
      "cell_type": "code",
      "metadata": {
        "id": "rNChyzp6lA8g",
        "colab_type": "code",
        "colab": {
          "base_uri": "https://localhost:8080/",
          "height": 34
        },
        "outputId": "8bbf6b76-ee5c-44af-9b1b-3adf5544b155"
      },
      "source": [
        "# Média e variância da série\n",
        "\n",
        "media = df['Close'].mean()\n",
        "var = df['Close'].var()\n",
        "print('média %f, variância %i' %(media, var))"
      ],
      "execution_count": 11,
      "outputs": [
        {
          "output_type": "stream",
          "text": [
            "média 18.000403, variância 90\n"
          ],
          "name": "stdout"
        }
      ]
    },
    {
      "cell_type": "code",
      "metadata": {
        "id": "Qf283hJPwiJq",
        "colab_type": "code",
        "colab": {
          "base_uri": "https://localhost:8080/",
          "height": 265
        },
        "outputId": "872c822e-3d5d-4491-fb5e-10e8e0250c6f"
      },
      "source": [
        "plt.hist(df['Close'])\n",
        "plt.show()"
      ],
      "execution_count": 12,
      "outputs": [
        {
          "output_type": "display_data",
          "data": {
            "image/png": "[encoded data removed]",
            "text/plain": [
              "<Figure size 432x288 with 1 Axes>"
            ]
          },
          "metadata": {
            "tags": [],
            "needs_background": "light"
          }
        }
      ]
    },
    {
      "cell_type": "code",
      "metadata": {
        "id": "W9Ir0K5dlX2i",
        "colab_type": "code",
        "colab": {
          "base_uri": "https://localhost:8080/",
          "height": 52
        },
        "outputId": "c6bc75bc-c0c2-4ed8-e11b-f86fabec09a4"
      },
      "source": [
        "# Média e variância de partes da séries quando particionada em duas\n",
        "\n",
        "split = round(len(df['Close'])/2)\n",
        "x = df['Close']\n",
        "x1, x2 = x[0:split], x[split:]\n",
        "media1, media2 = x1.mean(), x2.mean()\n",
        "var1, var2 = x1.var(), x2.var()\n",
        "print(\"X1 média %f, variância %f\" %(media1,var1))\n",
        "print(\"X2 média %f, variância %f\" %(media2,var2))"
      ],
      "execution_count": 13,
      "outputs": [
        {
          "output_type": "stream",
          "text": [
            "X1 média 16.879320, variância 135.358284\n",
            "X2 média 19.121487, variância 44.023526\n"
          ],
          "name": "stdout"
        }
      ]
    },
    {
      "cell_type": "code",
      "metadata": {
        "id": "y5_PZnZVwqdJ",
        "colab_type": "code",
        "colab": {
          "base_uri": "https://localhost:8080/",
          "height": 265
        },
        "outputId": "e7ef4bc3-e7c9-4e84-ea31-e46a4f301a5d"
      },
      "source": [
        "plt.hist(x1)\n",
        "plt.show()"
      ],
      "execution_count": 14,
      "outputs": [
        {
          "output_type": "display_data",
          "data": {
            "image/png": "[encoded data removed]",
            "text/plain": [
              "<Figure size 432x288 with 1 Axes>"
            ]
          },
          "metadata": {
            "tags": [],
            "needs_background": "light"
          }
        }
      ]
    },
    {
      "cell_type": "code",
      "metadata": {
        "id": "UAu4P-mOwuM8",
        "colab_type": "code",
        "colab": {
          "base_uri": "https://localhost:8080/",
          "height": 265
        },
        "outputId": "8c87a79e-33a8-4657-c252-70f14c26be2c"
      },
      "source": [
        "plt.hist(x2)\n",
        "plt.show()"
      ],
      "execution_count": 15,
      "outputs": [
        {
          "output_type": "display_data",
          "data": {
            "image/png": "[encoded data removed]",
            "text/plain": [
              "<Figure size 432x288 with 1 Axes>"
            ]
          },
          "metadata": {
            "tags": [],
            "needs_background": "light"
          }
        }
      ]
    },
    {
      "cell_type": "code",
      "metadata": {
        "id": "KfCiAMmIzW4j",
        "colab_type": "code",
        "colab": {
          "base_uri": "https://localhost:8080/",
          "height": 265
        },
        "outputId": "83fc7e55-7bbb-415b-fda8-95d66d581e85"
      },
      "source": [
        "# Log transform para retirar a mudança da variância através do tempo deixando a séries linear.\n",
        "\n",
        "logx= np.log(df.Close)\n",
        "plt.hist(logx)\n",
        "plt.show()"
      ],
      "execution_count": 16,
      "outputs": [
        {
          "output_type": "display_data",
          "data": {
            "image/png": "[encoded data removed]",
            "text/plain": [
              "<Figure size 432x288 with 1 Axes>"
            ]
          },
          "metadata": {
            "tags": [],
            "needs_background": "light"
          }
        }
      ]
    },
    {
      "cell_type": "code",
      "metadata": {
        "id": "p3Ehv-GTznoJ",
        "colab_type": "code",
        "colab": {
          "base_uri": "https://localhost:8080/",
          "height": 265
        },
        "outputId": "ba16b392-2159-47fd-c455-9870cca3fbd9"
      },
      "source": [
        "plt.plot(logx)\n",
        "plt.show()"
      ],
      "execution_count": 17,
      "outputs": [
        {
          "output_type": "display_data",
          "data": {
            "image/png": "[encoded data removed]",
            "text/plain": [
              "<Figure size 432x288 with 1 Axes>"
            ]
          },
          "metadata": {
            "tags": [],
            "needs_background": "light"
          }
        }
      ]
    },
    {
      "cell_type": "code",
      "metadata": {
        "id": "aZoYy7plifTf",
        "colab_type": "code",
        "colab": {
          "base_uri": "https://localhost:8080/",
          "height": 52
        },
        "outputId": "4f031740-4200-4697-d181-8f47a383a626"
      },
      "source": [
        "\n",
        "split = round(len(logx) / 2)\n",
        "x1, x2 = logx[0:split], logx[split:]\n",
        "mean1, mean2 = x1.mean(), x2.mean()\n",
        "var1, var2 = x1.var(), x2.var()\n",
        "print('x1 média %f, x1 variância %f' % (mean1, var1))\n",
        "print('x2 média %f, x2 variância %f' % (mean1, var2))\n"
      ],
      "execution_count": 18,
      "outputs": [
        {
          "output_type": "stream",
          "text": [
            "x1 média 2.584394, x1 variância 0.490570\n",
            "x2 média 2.584394, x2 variância 0.159889\n"
          ],
          "name": "stdout"
        }
      ]
    },
    {
      "cell_type": "code",
      "metadata": {
        "id": "GjcVeP6fLMB9",
        "colab_type": "code",
        "colab": {
          "base_uri": "https://localhost:8080/",
          "height": 34
        },
        "outputId": "2cf2ae04-bba4-4a4d-f256-03a16e28c783"
      },
      "source": [
        "# Definir quantidade para treino e teste\n",
        "tamanho = int(np.ceil(df.shape[0]) * .75)\n",
        "print(tamanho)"
      ],
      "execution_count": 19,
      "outputs": [
        {
          "output_type": "stream",
          "text": [
            "3769\n"
          ],
          "name": "stdout"
        }
      ]
    },
    {
      "cell_type": "code",
      "metadata": {
        "id": "RSh8hAvPFjTj",
        "colab_type": "code",
        "colab": {}
      },
      "source": [
        "# separar os valores da coluna Close e transformá-los para um vector numpy\n",
        "data = df.filter(['Close'])\n",
        "data = data.values"
      ],
      "execution_count": 20,
      "outputs": []
    },
    {
      "cell_type": "code",
      "metadata": {
        "id": "aoNp6ezxPh5d",
        "colab_type": "code",
        "colab": {}
      },
      "source": [
        "# Criação dos conjuntos de treino e teste a partir dos dados normalizados\n",
        "\n",
        "train_data = data[:tamanho]\n",
        "test_data = data[tamanho:]\n"
      ],
      "execution_count": 21,
      "outputs": []
    },
    {
      "cell_type": "code",
      "metadata": {
        "id": "XfZTctL4RWmN",
        "colab_type": "code",
        "colab": {
          "base_uri": "https://localhost:8080/",
          "height": 34
        },
        "outputId": "5c8f398b-33f9-4203-b112-3f4c05141fed"
      },
      "source": [
        "train_data.shape"
      ],
      "execution_count": 22,
      "outputs": [
        {
          "output_type": "execute_result",
          "data": {
            "text/plain": [
              "(3769, 1)"
            ]
          },
          "metadata": {
            "tags": []
          },
          "execution_count": 22
        }
      ]
    },
    {
      "cell_type": "code",
      "metadata": {
        "id": "iqvU1Rm-in5x",
        "colab_type": "code",
        "colab": {
          "base_uri": "https://localhost:8080/",
          "height": 34
        },
        "outputId": "c1512425-eb4d-4227-8953-5907bc68e4fa"
      },
      "source": [
        "test_data.shape"
      ],
      "execution_count": 45,
      "outputs": [
        {
          "output_type": "execute_result",
          "data": {
            "text/plain": [
              "(1257, 1)"
            ]
          },
          "metadata": {
            "tags": []
          },
          "execution_count": 45
        }
      ]
    },
    {
      "cell_type": "code",
      "metadata": {
        "id": "abNiyMoQ3mlO",
        "colab_type": "code",
        "colab": {}
      },
      "source": [
        "# Remodelando os conjuntos de dados para tensores 2D, assim podendo normalizá-los\n",
        "\n",
        "train_data = train_data.reshape((train_data.shape[0],1))\n",
        "test_data = test_data.reshape((test_data.shape[0],1))"
      ],
      "execution_count": 23,
      "outputs": []
    },
    {
      "cell_type": "code",
      "metadata": {
        "id": "FaQhI31Lh9hs",
        "colab_type": "code",
        "colab": {
          "base_uri": "https://localhost:8080/",
          "height": 407
        },
        "outputId": "0fe7615f-dd45-4907-f926-661665f62240"
      },
      "source": [
        "plt.clf()\n",
        "\n",
        "#fig, ax = plt.subplots()\n",
        "\n",
        "plt.figure(figsize=(18,6))\n",
        "\n",
        "plt.title(\"Ações PETR4 de 2000 a 2019\")\n",
        "plt.plot(df['Date'].iloc[:tamanho],df['Close'].iloc[:tamanho], label='dados de treino')\n",
        "plt.plot(df['Date'].iloc[tamanho:],df['Close'].iloc[tamanho:], label='dados de teste')\n",
        "plt.legend()\n",
        "plt.show()"
      ],
      "execution_count": 24,
      "outputs": [
        {
          "output_type": "display_data",
          "data": {
            "text/plain": [
              "<Figure size 432x288 with 0 Axes>"
            ]
          },
          "metadata": {
            "tags": []
          }
        },
        {
          "output_type": "display_data",
          "data": {
            "image/png": "[encoded data removed]",
            "text/plain": [
              "<Figure size 1296x432 with 1 Axes>"
            ]
          },
          "metadata": {
            "tags": [],
            "needs_background": "light"
          }
        }
      ]
    },
    {
      "cell_type": "code",
      "metadata": {
        "id": "UVh3gYMNg_45",
        "colab_type": "code",
        "colab": {}
      },
      "source": [
        "# Normalização dos valores para serem entre 0 e 1\n",
        "\n",
        "scaler = MinMaxScaler(feature_range=(-1,1))\n",
        "scaler = scaler.fit(train_data)\n",
        "\n",
        "normalized = scaler.transform(train_data)\n",
        "\n",
        "#inversed = scaler.inverse_transform(normalized)"
      ],
      "execution_count": 25,
      "outputs": []
    },
    {
      "cell_type": "code",
      "metadata": {
        "id": "OW-11rtLmQZH",
        "colab_type": "code",
        "colab": {}
      },
      "source": [
        "# Separação dos dados em entradas (x) e saídas (y)\n",
        "\n",
        "x_train=[]\n",
        "y_train = []\n",
        "for i in range(207,len(normalized)):\n",
        "    x_train.append(normalized[i-207:i,0])\n",
        "    y_train.append(normalized[i,0])"
      ],
      "execution_count": 26,
      "outputs": []
    },
    {
      "cell_type": "code",
      "metadata": {
        "id": "BWZRlOgPQVSG",
        "colab_type": "code",
        "colab": {}
      },
      "source": [
        "x_train, y_train = np.array(x_train), np.array(y_train)"
      ],
      "execution_count": 27,
      "outputs": []
    },
    {
      "cell_type": "code",
      "metadata": {
        "id": "rxs0Xlz0QXGC",
        "colab_type": "code",
        "colab": {
          "base_uri": "https://localhost:8080/",
          "height": 34
        },
        "outputId": "c6b16f7b-f606-4b8a-b257-75af297944d7"
      },
      "source": [
        "x_train.shape #(3914,60) (3767, 207)"
      ],
      "execution_count": 28,
      "outputs": [
        {
          "output_type": "execute_result",
          "data": {
            "text/plain": [
              "(3562, 207)"
            ]
          },
          "metadata": {
            "tags": []
          },
          "execution_count": 28
        }
      ]
    },
    {
      "cell_type": "code",
      "metadata": {
        "id": "2D_wLKZPRPYc",
        "colab_type": "code",
        "colab": {}
      },
      "source": [
        "# Remodelando o o conjunto treino para um tensor 3D\n",
        "\n",
        "x_train = np.reshape(x_train, (x_train.shape[0],x_train.shape[1],1))"
      ],
      "execution_count": 29,
      "outputs": []
    },
    {
      "cell_type": "code",
      "metadata": {
        "id": "QQBopvZGSbtB",
        "colab_type": "code",
        "colab": {
          "base_uri": "https://localhost:8080/",
          "height": 34
        },
        "outputId": "01690d08-5d3a-44b5-c6ae-0332f4b2ccf5"
      },
      "source": [
        "x_train.shape "
      ],
      "execution_count": 30,
      "outputs": [
        {
          "output_type": "execute_result",
          "data": {
            "text/plain": [
              "(3562, 207, 1)"
            ]
          },
          "metadata": {
            "tags": []
          },
          "execution_count": 30
        }
      ]
    },
    {
      "cell_type": "markdown",
      "metadata": {
        "id": "ycJwesvB4QaH",
        "colab_type": "text"
      },
      "source": [
        "# Construção da RNN"
      ]
    },
    {
      "cell_type": "code",
      "metadata": {
        "id": "HOkTrpKeSfYR",
        "colab_type": "code",
        "colab": {}
      },
      "source": [
        "# Montagem da LSTM\n",
        "tf.keras.backend.clear_session()\n",
        "\n",
        "model = tf.keras.models.Sequential()\n",
        "model.add(tf.keras.layers.LSTM(207, return_sequences=True,input_shape=(x_train.shape[1],1)))\n",
        "model.add(tf.keras.layers.Dropout(0.2))\n",
        "\n",
        "model.add(tf.keras.layers.LSTM(100))\n",
        "model.add(tf.keras.layers.Dropout(0.2))\n",
        "\n",
        "model.add(tf.keras.layers.Dense(50,activation='relu'))\n",
        "model.add(tf.keras.layers.Dense(1))"
      ],
      "execution_count": 31,
      "outputs": []
    },
    {
      "cell_type": "code",
      "metadata": {
        "id": "9oiLGjAJjIGU",
        "colab_type": "code",
        "colab": {
          "base_uri": "https://localhost:8080/",
          "height": 364
        },
        "outputId": "c0eb0439-1bde-4da2-81c9-ef26b3b61e44"
      },
      "source": [
        "model.summary()"
      ],
      "execution_count": 49,
      "outputs": [
        {
          "output_type": "stream",
          "text": [
            "Model: \"sequential\"\n",
            "_________________________________________________________________\n",
            "Layer (type)                 Output Shape              Param #   \n",
            "=================================================================\n",
            "lstm (LSTM)                  (None, 207, 207)          173052    \n",
            "_________________________________________________________________\n",
            "dropout (Dropout)            (None, 207, 207)          0         \n",
            "_________________________________________________________________\n",
            "lstm_1 (LSTM)                (None, 100)               123200    \n",
            "_________________________________________________________________\n",
            "dropout_1 (Dropout)          (None, 100)               0         \n",
            "_________________________________________________________________\n",
            "dense (Dense)                (None, 50)                5050      \n",
            "_________________________________________________________________\n",
            "dense_1 (Dense)              (None, 1)                 51        \n",
            "=================================================================\n",
            "Total params: 301,353\n",
            "Trainable params: 301,353\n",
            "Non-trainable params: 0\n",
            "_________________________________________________________________\n"
          ],
          "name": "stdout"
        }
      ]
    },
    {
      "cell_type": "code",
      "metadata": {
        "id": "3RK5KvgqToHZ",
        "colab_type": "code",
        "colab": {}
      },
      "source": [
        "model.compile(loss='mse',\n",
        "              optimizer='sgd',\n",
        "              metrics=[\"mae\"])"
      ],
      "execution_count": 32,
      "outputs": []
    },
    {
      "cell_type": "code",
      "metadata": {
        "id": "Lu8LUPwnlDTj",
        "colab_type": "code",
        "colab": {
          "base_uri": "https://localhost:8080/",
          "height": 1000
        },
        "outputId": "2cf832cb-cab0-499f-d586-e833b0aabcb8"
      },
      "source": [
        "history = model.fit(x_train,y_train ,epochs=300)"
      ],
      "execution_count": 33,
      "outputs": [
        {
          "output_type": "stream",
          "text": [
            "Epoch 1/300\n",
            "112/112 [==============================] - 2s 22ms/step - loss: 0.0585 - mae: 0.1718\n",
            "Epoch 2/300\n",
            "112/112 [==============================] - 2s 21ms/step - loss: 0.0105 - mae: 0.0731\n",
            "Epoch 3/300\n",
            "112/112 [==============================] - 2s 21ms/step - loss: 0.0090 - mae: 0.0698\n",
            "Epoch 4/300\n",
            "112/112 [==============================] - 2s 21ms/step - loss: 0.0080 - mae: 0.0665\n",
            "Epoch 5/300\n",
            "112/112 [==============================] - 2s 21ms/step - loss: 0.0074 - mae: 0.0643\n",
            "Epoch 6/300\n",
            "112/112 [==============================] - 2s 21ms/step - loss: 0.0071 - mae: 0.0633\n",
            "Epoch 7/300\n",
            "112/112 [==============================] - 2s 21ms/step - loss: 0.0069 - mae: 0.0624\n",
            "Epoch 8/300\n",
            "112/112 [==============================] - 2s 21ms/step - loss: 0.0065 - mae: 0.0603\n",
            "Epoch 9/300\n",
            "112/112 [==============================] - 2s 21ms/step - loss: 0.0062 - mae: 0.0588\n",
            "Epoch 10/300\n",
            "112/112 [==============================] - 2s 21ms/step - loss: 0.0061 - mae: 0.0584\n",
            "Epoch 11/300\n",
            "112/112 [==============================] - 2s 21ms/step - loss: 0.0059 - mae: 0.0572\n",
            "Epoch 12/300\n",
            "112/112 [==============================] - 2s 20ms/step - loss: 0.0056 - mae: 0.0567\n",
            "Epoch 13/300\n",
            "112/112 [==============================] - 2s 21ms/step - loss: 0.0056 - mae: 0.0564\n",
            "Epoch 14/300\n",
            "112/112 [==============================] - 2s 21ms/step - loss: 0.0056 - mae: 0.0559\n",
            "Epoch 15/300\n",
            "112/112 [==============================] - 2s 21ms/step - loss: 0.0053 - mae: 0.0542\n",
            "Epoch 16/300\n",
            "112/112 [==============================] - 2s 20ms/step - loss: 0.0053 - mae: 0.0546\n",
            "Epoch 17/300\n",
            "112/112 [==============================] - 2s 21ms/step - loss: 0.0052 - mae: 0.0537\n",
            "Epoch 18/300\n",
            "112/112 [==============================] - 2s 21ms/step - loss: 0.0048 - mae: 0.0517\n",
            "Epoch 19/300\n",
            "112/112 [==============================] - 2s 21ms/step - loss: 0.0050 - mae: 0.0529\n",
            "Epoch 20/300\n",
            "112/112 [==============================] - 2s 21ms/step - loss: 0.0048 - mae: 0.0518\n",
            "Epoch 21/300\n",
            "112/112 [==============================] - 2s 21ms/step - loss: 0.0048 - mae: 0.0516\n",
            "Epoch 22/300\n",
            "112/112 [==============================] - 2s 21ms/step - loss: 0.0048 - mae: 0.0517\n",
            "Epoch 23/300\n",
            "112/112 [==============================] - 2s 22ms/step - loss: 0.0049 - mae: 0.0515\n",
            "Epoch 24/300\n",
            "112/112 [==============================] - 2s 20ms/step - loss: 0.0047 - mae: 0.0513\n",
            "Epoch 25/300\n",
            "112/112 [==============================] - 2s 21ms/step - loss: 0.0047 - mae: 0.0507\n",
            "Epoch 26/300\n",
            "112/112 [==============================] - 2s 21ms/step - loss: 0.0047 - mae: 0.0505\n",
            "Epoch 27/300\n",
            "112/112 [==============================] - 2s 21ms/step - loss: 0.0043 - mae: 0.0493\n",
            "Epoch 28/300\n",
            "112/112 [==============================] - 2s 21ms/step - loss: 0.0045 - mae: 0.0502\n",
            "Epoch 29/300\n",
            "112/112 [==============================] - 2s 21ms/step - loss: 0.0043 - mae: 0.0492\n",
            "Epoch 30/300\n",
            "112/112 [==============================] - 2s 21ms/step - loss: 0.0043 - mae: 0.0490\n",
            "Epoch 31/300\n",
            "112/112 [==============================] - 2s 21ms/step - loss: 0.0042 - mae: 0.0483\n",
            "Epoch 32/300\n",
            "112/112 [==============================] - 2s 21ms/step - loss: 0.0043 - mae: 0.0489\n",
            "Epoch 33/300\n",
            "112/112 [==============================] - 2s 21ms/step - loss: 0.0042 - mae: 0.0484\n",
            "Epoch 34/300\n",
            "112/112 [==============================] - 2s 21ms/step - loss: 0.0041 - mae: 0.0478\n",
            "Epoch 35/300\n",
            "112/112 [==============================] - 2s 21ms/step - loss: 0.0042 - mae: 0.0479\n",
            "Epoch 36/300\n",
            "112/112 [==============================] - 2s 21ms/step - loss: 0.0040 - mae: 0.0470\n",
            "Epoch 37/300\n",
            "112/112 [==============================] - 2s 21ms/step - loss: 0.0042 - mae: 0.0476\n",
            "Epoch 38/300\n",
            "112/112 [==============================] - 2s 21ms/step - loss: 0.0038 - mae: 0.0460\n",
            "Epoch 39/300\n",
            "112/112 [==============================] - 2s 21ms/step - loss: 0.0039 - mae: 0.0466\n",
            "Epoch 40/300\n",
            "112/112 [==============================] - 2s 21ms/step - loss: 0.0038 - mae: 0.0463\n",
            "Epoch 41/300\n",
            "112/112 [==============================] - 2s 21ms/step - loss: 0.0039 - mae: 0.0464\n",
            "Epoch 42/300\n",
            "112/112 [==============================] - 2s 21ms/step - loss: 0.0038 - mae: 0.0462\n",
            "Epoch 43/300\n",
            "112/112 [==============================] - 2s 21ms/step - loss: 0.0039 - mae: 0.0463\n",
            "Epoch 44/300\n",
            "112/112 [==============================] - 2s 22ms/step - loss: 0.0038 - mae: 0.0455\n",
            "Epoch 45/300\n",
            "112/112 [==============================] - 2s 22ms/step - loss: 0.0037 - mae: 0.0448\n",
            "Epoch 46/300\n",
            "112/112 [==============================] - 2s 22ms/step - loss: 0.0037 - mae: 0.0448\n",
            "Epoch 47/300\n",
            "112/112 [==============================] - 2s 21ms/step - loss: 0.0040 - mae: 0.0469\n",
            "Epoch 48/300\n",
            "112/112 [==============================] - 2s 21ms/step - loss: 0.0038 - mae: 0.0457\n",
            "Epoch 49/300\n",
            "112/112 [==============================] - 2s 21ms/step - loss: 0.0037 - mae: 0.0453\n",
            "Epoch 50/300\n",
            "112/112 [==============================] - 2s 21ms/step - loss: 0.0037 - mae: 0.0453\n",
            "Epoch 51/300\n",
            "112/112 [==============================] - 2s 21ms/step - loss: 0.0036 - mae: 0.0443\n",
            "Epoch 52/300\n",
            "112/112 [==============================] - 2s 21ms/step - loss: 0.0036 - mae: 0.0441\n",
            "Epoch 53/300\n",
            "112/112 [==============================] - 2s 21ms/step - loss: 0.0037 - mae: 0.0447\n",
            "Epoch 54/300\n",
            "112/112 [==============================] - 2s 21ms/step - loss: 0.0036 - mae: 0.0445\n",
            "Epoch 55/300\n",
            "112/112 [==============================] - 2s 21ms/step - loss: 0.0036 - mae: 0.0439\n",
            "Epoch 56/300\n",
            "112/112 [==============================] - 2s 21ms/step - loss: 0.0036 - mae: 0.0442\n",
            "Epoch 57/300\n",
            "112/112 [==============================] - 2s 21ms/step - loss: 0.0036 - mae: 0.0441\n",
            "Epoch 58/300\n",
            "112/112 [==============================] - 2s 21ms/step - loss: 0.0034 - mae: 0.0430\n",
            "Epoch 59/300\n",
            "112/112 [==============================] - 2s 21ms/step - loss: 0.0034 - mae: 0.0427\n",
            "Epoch 60/300\n",
            "112/112 [==============================] - 2s 21ms/step - loss: 0.0035 - mae: 0.0434\n",
            "Epoch 61/300\n",
            "112/112 [==============================] - 2s 21ms/step - loss: 0.0034 - mae: 0.0436\n",
            "Epoch 62/300\n",
            "112/112 [==============================] - 2s 21ms/step - loss: 0.0035 - mae: 0.0437\n",
            "Epoch 63/300\n",
            "112/112 [==============================] - 2s 20ms/step - loss: 0.0034 - mae: 0.0431\n",
            "Epoch 64/300\n",
            "112/112 [==============================] - 2s 20ms/step - loss: 0.0035 - mae: 0.0438\n",
            "Epoch 65/300\n",
            "112/112 [==============================] - 2s 20ms/step - loss: 0.0035 - mae: 0.0436\n",
            "Epoch 66/300\n",
            "112/112 [==============================] - 2s 20ms/step - loss: 0.0034 - mae: 0.0428\n",
            "Epoch 67/300\n",
            "112/112 [==============================] - 2s 21ms/step - loss: 0.0032 - mae: 0.0423\n",
            "Epoch 68/300\n",
            "112/112 [==============================] - 2s 21ms/step - loss: 0.0032 - mae: 0.0424\n",
            "Epoch 69/300\n",
            "112/112 [==============================] - 2s 21ms/step - loss: 0.0033 - mae: 0.0421\n",
            "Epoch 70/300\n",
            "112/112 [==============================] - 2s 21ms/step - loss: 0.0033 - mae: 0.0426\n",
            "Epoch 71/300\n",
            "112/112 [==============================] - 2s 21ms/step - loss: 0.0033 - mae: 0.0424\n",
            "Epoch 72/300\n",
            "112/112 [==============================] - 2s 21ms/step - loss: 0.0032 - mae: 0.0423\n",
            "Epoch 73/300\n",
            "112/112 [==============================] - 2s 21ms/step - loss: 0.0033 - mae: 0.0424\n",
            "Epoch 74/300\n",
            "112/112 [==============================] - 2s 21ms/step - loss: 0.0033 - mae: 0.0421\n",
            "Epoch 75/300\n",
            "112/112 [==============================] - 2s 21ms/step - loss: 0.0033 - mae: 0.0425\n",
            "Epoch 76/300\n",
            "112/112 [==============================] - 2s 21ms/step - loss: 0.0031 - mae: 0.0413\n",
            "Epoch 77/300\n",
            "112/112 [==============================] - 2s 21ms/step - loss: 0.0032 - mae: 0.0416\n",
            "Epoch 78/300\n",
            "112/112 [==============================] - 2s 21ms/step - loss: 0.0032 - mae: 0.0415\n",
            "Epoch 79/300\n",
            "112/112 [==============================] - 2s 21ms/step - loss: 0.0032 - mae: 0.0419\n",
            "Epoch 80/300\n",
            "112/112 [==============================] - 2s 21ms/step - loss: 0.0033 - mae: 0.0419\n",
            "Epoch 81/300\n",
            "112/112 [==============================] - 2s 21ms/step - loss: 0.0033 - mae: 0.0422\n",
            "Epoch 82/300\n",
            "112/112 [==============================] - 2s 21ms/step - loss: 0.0033 - mae: 0.0426\n",
            "Epoch 83/300\n",
            "112/112 [==============================] - 2s 21ms/step - loss: 0.0032 - mae: 0.0417\n",
            "Epoch 84/300\n",
            "112/112 [==============================] - 2s 21ms/step - loss: 0.0031 - mae: 0.0410\n",
            "Epoch 85/300\n",
            "112/112 [==============================] - 2s 21ms/step - loss: 0.0031 - mae: 0.0412\n",
            "Epoch 86/300\n",
            "112/112 [==============================] - 2s 21ms/step - loss: 0.0032 - mae: 0.0409\n",
            "Epoch 87/300\n",
            "112/112 [==============================] - 2s 21ms/step - loss: 0.0031 - mae: 0.0414\n",
            "Epoch 88/300\n",
            "112/112 [==============================] - 2s 21ms/step - loss: 0.0030 - mae: 0.0403\n",
            "Epoch 89/300\n",
            "112/112 [==============================] - 2s 21ms/step - loss: 0.0030 - mae: 0.0400\n",
            "Epoch 90/300\n",
            "112/112 [==============================] - 2s 21ms/step - loss: 0.0029 - mae: 0.0402\n",
            "Epoch 91/300\n",
            "112/112 [==============================] - 2s 21ms/step - loss: 0.0032 - mae: 0.0407\n",
            "Epoch 92/300\n",
            "112/112 [==============================] - 2s 21ms/step - loss: 0.0030 - mae: 0.0408\n",
            "Epoch 93/300\n",
            "112/112 [==============================] - 2s 21ms/step - loss: 0.0031 - mae: 0.0409\n",
            "Epoch 94/300\n",
            "112/112 [==============================] - 2s 21ms/step - loss: 0.0031 - mae: 0.0405\n",
            "Epoch 95/300\n",
            "112/112 [==============================] - 2s 21ms/step - loss: 0.0029 - mae: 0.0397\n",
            "Epoch 96/300\n",
            "112/112 [==============================] - 2s 21ms/step - loss: 0.0030 - mae: 0.0407\n",
            "Epoch 97/300\n",
            "112/112 [==============================] - 2s 21ms/step - loss: 0.0030 - mae: 0.0400\n",
            "Epoch 98/300\n",
            "112/112 [==============================] - 2s 21ms/step - loss: 0.0030 - mae: 0.0404\n",
            "Epoch 99/300\n",
            "112/112 [==============================] - 2s 21ms/step - loss: 0.0030 - mae: 0.0406\n",
            "Epoch 100/300\n",
            "112/112 [==============================] - 2s 21ms/step - loss: 0.0030 - mae: 0.0406\n",
            "Epoch 101/300\n",
            "112/112 [==============================] - 2s 20ms/step - loss: 0.0030 - mae: 0.0399\n",
            "Epoch 102/300\n",
            "112/112 [==============================] - 2s 21ms/step - loss: 0.0027 - mae: 0.0393\n",
            "Epoch 103/300\n",
            "112/112 [==============================] - 2s 21ms/step - loss: 0.0030 - mae: 0.0398\n",
            "Epoch 104/300\n",
            "112/112 [==============================] - 2s 21ms/step - loss: 0.0030 - mae: 0.0403\n",
            "Epoch 105/300\n",
            "112/112 [==============================] - 2s 21ms/step - loss: 0.0029 - mae: 0.0394\n",
            "Epoch 106/300\n",
            "112/112 [==============================] - 2s 21ms/step - loss: 0.0030 - mae: 0.0396\n",
            "Epoch 107/300\n",
            "112/112 [==============================] - 2s 21ms/step - loss: 0.0029 - mae: 0.0396\n",
            "Epoch 108/300\n",
            "112/112 [==============================] - 2s 21ms/step - loss: 0.0030 - mae: 0.0400\n",
            "Epoch 109/300\n",
            "112/112 [==============================] - 2s 21ms/step - loss: 0.0029 - mae: 0.0395\n",
            "Epoch 110/300\n",
            "112/112 [==============================] - 2s 21ms/step - loss: 0.0030 - mae: 0.0396\n",
            "Epoch 111/300\n",
            "112/112 [==============================] - 2s 21ms/step - loss: 0.0030 - mae: 0.0399\n",
            "Epoch 112/300\n",
            "112/112 [==============================] - 2s 21ms/step - loss: 0.0030 - mae: 0.0398\n",
            "Epoch 113/300\n",
            "112/112 [==============================] - 2s 21ms/step - loss: 0.0028 - mae: 0.0392\n",
            "Epoch 114/300\n",
            "112/112 [==============================] - 2s 21ms/step - loss: 0.0029 - mae: 0.0395\n",
            "Epoch 115/300\n",
            "112/112 [==============================] - 2s 21ms/step - loss: 0.0028 - mae: 0.0390\n",
            "Epoch 116/300\n",
            "112/112 [==============================] - 2s 21ms/step - loss: 0.0028 - mae: 0.0387\n",
            "Epoch 117/300\n",
            "112/112 [==============================] - 2s 21ms/step - loss: 0.0028 - mae: 0.0389\n",
            "Epoch 118/300\n",
            "112/112 [==============================] - 2s 21ms/step - loss: 0.0028 - mae: 0.0388\n",
            "Epoch 119/300\n",
            "112/112 [==============================] - 2s 21ms/step - loss: 0.0028 - mae: 0.0387\n",
            "Epoch 120/300\n",
            "112/112 [==============================] - 2s 21ms/step - loss: 0.0029 - mae: 0.0388\n",
            "Epoch 121/300\n",
            "112/112 [==============================] - 2s 21ms/step - loss: 0.0028 - mae: 0.0387\n",
            "Epoch 122/300\n",
            "112/112 [==============================] - 2s 21ms/step - loss: 0.0028 - mae: 0.0388\n",
            "Epoch 123/300\n",
            "112/112 [==============================] - 2s 21ms/step - loss: 0.0030 - mae: 0.0392\n",
            "Epoch 124/300\n",
            "112/112 [==============================] - 2s 21ms/step - loss: 0.0027 - mae: 0.0381\n",
            "Epoch 125/300\n",
            "112/112 [==============================] - 2s 21ms/step - loss: 0.0028 - mae: 0.0386\n",
            "Epoch 126/300\n",
            "112/112 [==============================] - 2s 21ms/step - loss: 0.0028 - mae: 0.0386\n",
            "Epoch 127/300\n",
            "112/112 [==============================] - 2s 21ms/step - loss: 0.0028 - mae: 0.0386\n",
            "Epoch 128/300\n",
            "112/112 [==============================] - 2s 21ms/step - loss: 0.0027 - mae: 0.0383\n",
            "Epoch 129/300\n",
            "112/112 [==============================] - 2s 21ms/step - loss: 0.0027 - mae: 0.0384\n",
            "Epoch 130/300\n",
            "112/112 [==============================] - 2s 21ms/step - loss: 0.0027 - mae: 0.0383\n",
            "Epoch 131/300\n",
            "112/112 [==============================] - 2s 21ms/step - loss: 0.0028 - mae: 0.0387\n",
            "Epoch 132/300\n",
            "112/112 [==============================] - 2s 21ms/step - loss: 0.0028 - mae: 0.0383\n",
            "Epoch 133/300\n",
            "112/112 [==============================] - 2s 21ms/step - loss: 0.0028 - mae: 0.0384\n",
            "Epoch 134/300\n",
            "112/112 [==============================] - 2s 21ms/step - loss: 0.0028 - mae: 0.0386\n",
            "Epoch 135/300\n",
            "112/112 [==============================] - 2s 21ms/step - loss: 0.0028 - mae: 0.0387\n",
            "Epoch 136/300\n",
            "112/112 [==============================] - 2s 21ms/step - loss: 0.0027 - mae: 0.0382\n",
            "Epoch 137/300\n",
            "112/112 [==============================] - 2s 21ms/step - loss: 0.0026 - mae: 0.0377\n",
            "Epoch 138/300\n",
            "112/112 [==============================] - 2s 21ms/step - loss: 0.0028 - mae: 0.0383\n",
            "Epoch 139/300\n",
            "112/112 [==============================] - 2s 21ms/step - loss: 0.0026 - mae: 0.0376\n",
            "Epoch 140/300\n",
            "112/112 [==============================] - 2s 21ms/step - loss: 0.0028 - mae: 0.0386\n",
            "Epoch 141/300\n",
            "112/112 [==============================] - 2s 20ms/step - loss: 0.0027 - mae: 0.0383\n",
            "Epoch 142/300\n",
            "112/112 [==============================] - 2s 21ms/step - loss: 0.0027 - mae: 0.0379\n",
            "Epoch 143/300\n",
            "112/112 [==============================] - 2s 21ms/step - loss: 0.0027 - mae: 0.0377\n",
            "Epoch 144/300\n",
            "112/112 [==============================] - 2s 21ms/step - loss: 0.0027 - mae: 0.0380\n",
            "Epoch 145/300\n",
            "112/112 [==============================] - 2s 21ms/step - loss: 0.0026 - mae: 0.0373\n",
            "Epoch 146/300\n",
            "112/112 [==============================] - 2s 21ms/step - loss: 0.0027 - mae: 0.0377\n",
            "Epoch 147/300\n",
            "112/112 [==============================] - 2s 21ms/step - loss: 0.0027 - mae: 0.0378\n",
            "Epoch 148/300\n",
            "112/112 [==============================] - 2s 21ms/step - loss: 0.0026 - mae: 0.0378\n",
            "Epoch 149/300\n",
            "112/112 [==============================] - 2s 21ms/step - loss: 0.0027 - mae: 0.0379\n",
            "Epoch 150/300\n",
            "112/112 [==============================] - 2s 21ms/step - loss: 0.0027 - mae: 0.0376\n",
            "Epoch 151/300\n",
            "112/112 [==============================] - 2s 21ms/step - loss: 0.0026 - mae: 0.0371\n",
            "Epoch 152/300\n",
            "112/112 [==============================] - 2s 21ms/step - loss: 0.0027 - mae: 0.0382\n",
            "Epoch 153/300\n",
            "112/112 [==============================] - 2s 21ms/step - loss: 0.0027 - mae: 0.0379\n",
            "Epoch 154/300\n",
            "112/112 [==============================] - 2s 21ms/step - loss: 0.0026 - mae: 0.0375\n",
            "Epoch 155/300\n",
            "112/112 [==============================] - 2s 21ms/step - loss: 0.0027 - mae: 0.0376\n",
            "Epoch 156/300\n",
            "112/112 [==============================] - 2s 21ms/step - loss: 0.0027 - mae: 0.0377\n",
            "Epoch 157/300\n",
            "112/112 [==============================] - 2s 21ms/step - loss: 0.0025 - mae: 0.0365\n",
            "Epoch 158/300\n",
            "112/112 [==============================] - 2s 21ms/step - loss: 0.0027 - mae: 0.0378\n",
            "Epoch 159/300\n",
            "112/112 [==============================] - 2s 21ms/step - loss: 0.0026 - mae: 0.0375\n",
            "Epoch 160/300\n",
            "112/112 [==============================] - 2s 21ms/step - loss: 0.0025 - mae: 0.0368\n",
            "Epoch 161/300\n",
            "112/112 [==============================] - 2s 21ms/step - loss: 0.0026 - mae: 0.0373\n",
            "Epoch 162/300\n",
            "112/112 [==============================] - 2s 21ms/step - loss: 0.0025 - mae: 0.0366\n",
            "Epoch 163/300\n",
            "112/112 [==============================] - 2s 21ms/step - loss: 0.0027 - mae: 0.0374\n",
            "Epoch 164/300\n",
            "112/112 [==============================] - 2s 21ms/step - loss: 0.0025 - mae: 0.0362\n",
            "Epoch 165/300\n",
            "112/112 [==============================] - 2s 21ms/step - loss: 0.0025 - mae: 0.0369\n",
            "Epoch 166/300\n",
            "112/112 [==============================] - 2s 21ms/step - loss: 0.0025 - mae: 0.0367\n",
            "Epoch 167/300\n",
            "112/112 [==============================] - 2s 21ms/step - loss: 0.0025 - mae: 0.0370\n",
            "Epoch 168/300\n",
            "112/112 [==============================] - 2s 21ms/step - loss: 0.0025 - mae: 0.0371\n",
            "Epoch 169/300\n",
            "112/112 [==============================] - 2s 21ms/step - loss: 0.0027 - mae: 0.0371\n",
            "Epoch 170/300\n",
            "112/112 [==============================] - 2s 21ms/step - loss: 0.0024 - mae: 0.0358\n",
            "Epoch 171/300\n",
            "112/112 [==============================] - 2s 21ms/step - loss: 0.0026 - mae: 0.0367\n",
            "Epoch 172/300\n",
            "112/112 [==============================] - 2s 21ms/step - loss: 0.0026 - mae: 0.0367\n",
            "Epoch 173/300\n",
            "112/112 [==============================] - 2s 21ms/step - loss: 0.0025 - mae: 0.0366\n",
            "Epoch 174/300\n",
            "112/112 [==============================] - 2s 21ms/step - loss: 0.0025 - mae: 0.0363\n",
            "Epoch 175/300\n",
            "112/112 [==============================] - 2s 21ms/step - loss: 0.0025 - mae: 0.0365\n",
            "Epoch 176/300\n",
            "112/112 [==============================] - 2s 21ms/step - loss: 0.0025 - mae: 0.0364\n",
            "Epoch 177/300\n",
            "112/112 [==============================] - 2s 21ms/step - loss: 0.0025 - mae: 0.0360\n",
            "Epoch 178/300\n",
            "112/112 [==============================] - 2s 21ms/step - loss: 0.0025 - mae: 0.0362\n",
            "Epoch 179/300\n",
            "112/112 [==============================] - 2s 21ms/step - loss: 0.0025 - mae: 0.0363\n",
            "Epoch 180/300\n",
            "112/112 [==============================] - 2s 21ms/step - loss: 0.0025 - mae: 0.0364\n",
            "Epoch 181/300\n",
            "112/112 [==============================] - 2s 21ms/step - loss: 0.0024 - mae: 0.0357\n",
            "Epoch 182/300\n",
            "112/112 [==============================] - 2s 21ms/step - loss: 0.0024 - mae: 0.0362\n",
            "Epoch 183/300\n",
            "112/112 [==============================] - 2s 21ms/step - loss: 0.0025 - mae: 0.0364\n",
            "Epoch 184/300\n",
            "112/112 [==============================] - 2s 21ms/step - loss: 0.0024 - mae: 0.0358\n",
            "Epoch 185/300\n",
            "112/112 [==============================] - 2s 21ms/step - loss: 0.0024 - mae: 0.0357\n",
            "Epoch 186/300\n",
            "112/112 [==============================] - 2s 21ms/step - loss: 0.0024 - mae: 0.0356\n",
            "Epoch 187/300\n",
            "112/112 [==============================] - 2s 21ms/step - loss: 0.0024 - mae: 0.0361\n",
            "Epoch 188/300\n",
            "112/112 [==============================] - 2s 21ms/step - loss: 0.0024 - mae: 0.0358\n",
            "Epoch 189/300\n",
            "112/112 [==============================] - 2s 21ms/step - loss: 0.0024 - mae: 0.0358\n",
            "Epoch 190/300\n",
            "112/112 [==============================] - 2s 21ms/step - loss: 0.0024 - mae: 0.0358\n",
            "Epoch 191/300\n",
            "112/112 [==============================] - 2s 21ms/step - loss: 0.0024 - mae: 0.0359\n",
            "Epoch 192/300\n",
            "112/112 [==============================] - 2s 21ms/step - loss: 0.0025 - mae: 0.0361\n",
            "Epoch 193/300\n",
            "112/112 [==============================] - 2s 21ms/step - loss: 0.0025 - mae: 0.0365\n",
            "Epoch 194/300\n",
            "112/112 [==============================] - 2s 21ms/step - loss: 0.0025 - mae: 0.0358\n",
            "Epoch 195/300\n",
            "112/112 [==============================] - 2s 21ms/step - loss: 0.0025 - mae: 0.0363\n",
            "Epoch 196/300\n",
            "112/112 [==============================] - 2s 21ms/step - loss: 0.0023 - mae: 0.0352\n",
            "Epoch 197/300\n",
            "112/112 [==============================] - 2s 21ms/step - loss: 0.0024 - mae: 0.0358\n",
            "Epoch 198/300\n",
            "112/112 [==============================] - 2s 21ms/step - loss: 0.0025 - mae: 0.0364\n",
            "Epoch 199/300\n",
            "112/112 [==============================] - 2s 21ms/step - loss: 0.0025 - mae: 0.0362\n",
            "Epoch 200/300\n",
            "112/112 [==============================] - 2s 21ms/step - loss: 0.0024 - mae: 0.0357\n",
            "Epoch 201/300\n",
            "112/112 [==============================] - 2s 21ms/step - loss: 0.0025 - mae: 0.0359\n",
            "Epoch 202/300\n",
            "112/112 [==============================] - 2s 21ms/step - loss: 0.0024 - mae: 0.0355\n",
            "Epoch 203/300\n",
            "112/112 [==============================] - 2s 21ms/step - loss: 0.0023 - mae: 0.0352\n",
            "Epoch 204/300\n",
            "112/112 [==============================] - 2s 21ms/step - loss: 0.0024 - mae: 0.0359\n",
            "Epoch 205/300\n",
            "112/112 [==============================] - 2s 21ms/step - loss: 0.0024 - mae: 0.0355\n",
            "Epoch 206/300\n",
            "112/112 [==============================] - 2s 21ms/step - loss: 0.0024 - mae: 0.0358\n",
            "Epoch 207/300\n",
            "112/112 [==============================] - 2s 21ms/step - loss: 0.0023 - mae: 0.0352\n",
            "Epoch 208/300\n",
            "112/112 [==============================] - 2s 21ms/step - loss: 0.0024 - mae: 0.0354\n",
            "Epoch 209/300\n",
            "112/112 [==============================] - 2s 21ms/step - loss: 0.0023 - mae: 0.0351\n",
            "Epoch 210/300\n",
            "112/112 [==============================] - 2s 21ms/step - loss: 0.0023 - mae: 0.0349\n",
            "Epoch 211/300\n",
            "112/112 [==============================] - 2s 21ms/step - loss: 0.0023 - mae: 0.0350\n",
            "Epoch 212/300\n",
            "112/112 [==============================] - 2s 21ms/step - loss: 0.0024 - mae: 0.0354\n",
            "Epoch 213/300\n",
            "112/112 [==============================] - 2s 21ms/step - loss: 0.0024 - mae: 0.0350\n",
            "Epoch 214/300\n",
            "112/112 [==============================] - 2s 21ms/step - loss: 0.0024 - mae: 0.0359\n",
            "Epoch 215/300\n",
            "112/112 [==============================] - 2s 21ms/step - loss: 0.0025 - mae: 0.0357\n",
            "Epoch 216/300\n",
            "112/112 [==============================] - 2s 21ms/step - loss: 0.0024 - mae: 0.0359\n",
            "Epoch 217/300\n",
            "112/112 [==============================] - 2s 21ms/step - loss: 0.0024 - mae: 0.0351\n",
            "Epoch 218/300\n",
            "112/112 [==============================] - 2s 21ms/step - loss: 0.0024 - mae: 0.0356\n",
            "Epoch 219/300\n",
            "112/112 [==============================] - 2s 21ms/step - loss: 0.0023 - mae: 0.0358\n",
            "Epoch 220/300\n",
            "112/112 [==============================] - 2s 21ms/step - loss: 0.0024 - mae: 0.0354\n",
            "Epoch 221/300\n",
            "112/112 [==============================] - 2s 21ms/step - loss: 0.0024 - mae: 0.0352\n",
            "Epoch 222/300\n",
            "112/112 [==============================] - 2s 21ms/step - loss: 0.0023 - mae: 0.0351\n",
            "Epoch 223/300\n",
            "112/112 [==============================] - 2s 21ms/step - loss: 0.0024 - mae: 0.0355\n",
            "Epoch 224/300\n",
            "112/112 [==============================] - 2s 21ms/step - loss: 0.0025 - mae: 0.0354\n",
            "Epoch 225/300\n",
            "112/112 [==============================] - 2s 21ms/step - loss: 0.0024 - mae: 0.0356\n",
            "Epoch 226/300\n",
            "112/112 [==============================] - 2s 21ms/step - loss: 0.0024 - mae: 0.0351\n",
            "Epoch 227/300\n",
            "112/112 [==============================] - 2s 21ms/step - loss: 0.0023 - mae: 0.0349\n",
            "Epoch 228/300\n",
            "112/112 [==============================] - 2s 21ms/step - loss: 0.0024 - mae: 0.0355\n",
            "Epoch 229/300\n",
            "112/112 [==============================] - 2s 21ms/step - loss: 0.0023 - mae: 0.0349\n",
            "Epoch 230/300\n",
            "112/112 [==============================] - 2s 21ms/step - loss: 0.0023 - mae: 0.0349\n",
            "Epoch 231/300\n",
            "112/112 [==============================] - 2s 21ms/step - loss: 0.0025 - mae: 0.0360\n",
            "Epoch 232/300\n",
            "112/112 [==============================] - 2s 21ms/step - loss: 0.0024 - mae: 0.0355\n",
            "Epoch 233/300\n",
            "112/112 [==============================] - 2s 21ms/step - loss: 0.0024 - mae: 0.0350\n",
            "Epoch 234/300\n",
            "112/112 [==============================] - 2s 21ms/step - loss: 0.0023 - mae: 0.0349\n",
            "Epoch 235/300\n",
            "112/112 [==============================] - 2s 21ms/step - loss: 0.0024 - mae: 0.0353\n",
            "Epoch 236/300\n",
            "112/112 [==============================] - 2s 21ms/step - loss: 0.0024 - mae: 0.0351\n",
            "Epoch 237/300\n",
            "112/112 [==============================] - 2s 21ms/step - loss: 0.0023 - mae: 0.0346\n",
            "Epoch 238/300\n",
            "112/112 [==============================] - 2s 21ms/step - loss: 0.0023 - mae: 0.0346\n",
            "Epoch 239/300\n",
            "112/112 [==============================] - 2s 21ms/step - loss: 0.0023 - mae: 0.0347\n",
            "Epoch 240/300\n",
            "112/112 [==============================] - 2s 21ms/step - loss: 0.0023 - mae: 0.0345\n",
            "Epoch 241/300\n",
            "112/112 [==============================] - 2s 21ms/step - loss: 0.0023 - mae: 0.0349\n",
            "Epoch 242/300\n",
            "112/112 [==============================] - 2s 21ms/step - loss: 0.0023 - mae: 0.0348\n",
            "Epoch 243/300\n",
            "112/112 [==============================] - 2s 21ms/step - loss: 0.0023 - mae: 0.0342\n",
            "Epoch 244/300\n",
            "112/112 [==============================] - 2s 21ms/step - loss: 0.0024 - mae: 0.0353\n",
            "Epoch 245/300\n",
            "112/112 [==============================] - 2s 21ms/step - loss: 0.0024 - mae: 0.0348\n",
            "Epoch 246/300\n",
            "112/112 [==============================] - 2s 21ms/step - loss: 0.0023 - mae: 0.0342\n",
            "Epoch 247/300\n",
            "112/112 [==============================] - 2s 21ms/step - loss: 0.0022 - mae: 0.0346\n",
            "Epoch 248/300\n",
            "112/112 [==============================] - 2s 21ms/step - loss: 0.0023 - mae: 0.0345\n",
            "Epoch 249/300\n",
            "112/112 [==============================] - 2s 21ms/step - loss: 0.0023 - mae: 0.0352\n",
            "Epoch 250/300\n",
            "112/112 [==============================] - 2s 21ms/step - loss: 0.0023 - mae: 0.0346\n",
            "Epoch 251/300\n",
            "112/112 [==============================] - 2s 21ms/step - loss: 0.0023 - mae: 0.0348\n",
            "Epoch 252/300\n",
            "112/112 [==============================] - 2s 21ms/step - loss: 0.0022 - mae: 0.0340\n",
            "Epoch 253/300\n",
            "112/112 [==============================] - 2s 21ms/step - loss: 0.0023 - mae: 0.0342\n",
            "Epoch 254/300\n",
            "112/112 [==============================] - 2s 21ms/step - loss: 0.0023 - mae: 0.0343\n",
            "Epoch 255/300\n",
            "112/112 [==============================] - 2s 21ms/step - loss: 0.0022 - mae: 0.0346\n",
            "Epoch 256/300\n",
            "112/112 [==============================] - 2s 21ms/step - loss: 0.0023 - mae: 0.0350\n",
            "Epoch 257/300\n",
            "112/112 [==============================] - 2s 21ms/step - loss: 0.0022 - mae: 0.0338\n",
            "Epoch 258/300\n",
            "112/112 [==============================] - 2s 21ms/step - loss: 0.0024 - mae: 0.0353\n",
            "Epoch 259/300\n",
            "112/112 [==============================] - 2s 21ms/step - loss: 0.0022 - mae: 0.0345\n",
            "Epoch 260/300\n",
            "112/112 [==============================] - 2s 21ms/step - loss: 0.0023 - mae: 0.0345\n",
            "Epoch 261/300\n",
            "112/112 [==============================] - 2s 21ms/step - loss: 0.0023 - mae: 0.0347\n",
            "Epoch 262/300\n",
            "112/112 [==============================] - 2s 21ms/step - loss: 0.0023 - mae: 0.0347\n",
            "Epoch 263/300\n",
            "112/112 [==============================] - 2s 21ms/step - loss: 0.0023 - mae: 0.0347\n",
            "Epoch 264/300\n",
            "112/112 [==============================] - 2s 21ms/step - loss: 0.0023 - mae: 0.0347\n",
            "Epoch 265/300\n",
            "112/112 [==============================] - 2s 21ms/step - loss: 0.0021 - mae: 0.0335\n",
            "Epoch 266/300\n",
            "112/112 [==============================] - 2s 21ms/step - loss: 0.0022 - mae: 0.0343\n",
            "Epoch 267/300\n",
            "112/112 [==============================] - 2s 21ms/step - loss: 0.0022 - mae: 0.0339\n",
            "Epoch 268/300\n",
            "112/112 [==============================] - 2s 21ms/step - loss: 0.0022 - mae: 0.0339\n",
            "Epoch 269/300\n",
            "112/112 [==============================] - 2s 21ms/step - loss: 0.0023 - mae: 0.0345\n",
            "Epoch 270/300\n",
            "112/112 [==============================] - 2s 21ms/step - loss: 0.0023 - mae: 0.0343\n",
            "Epoch 271/300\n",
            "112/112 [==============================] - 2s 21ms/step - loss: 0.0022 - mae: 0.0341\n",
            "Epoch 272/300\n",
            "112/112 [==============================] - 2s 21ms/step - loss: 0.0024 - mae: 0.0348\n",
            "Epoch 273/300\n",
            "112/112 [==============================] - 2s 21ms/step - loss: 0.0023 - mae: 0.0343\n",
            "Epoch 274/300\n",
            "112/112 [==============================] - 2s 21ms/step - loss: 0.0023 - mae: 0.0341\n",
            "Epoch 275/300\n",
            "112/112 [==============================] - 2s 21ms/step - loss: 0.0021 - mae: 0.0333\n",
            "Epoch 276/300\n",
            "112/112 [==============================] - 2s 21ms/step - loss: 0.0023 - mae: 0.0343\n",
            "Epoch 277/300\n",
            "112/112 [==============================] - 2s 21ms/step - loss: 0.0022 - mae: 0.0343\n",
            "Epoch 278/300\n",
            "112/112 [==============================] - 2s 21ms/step - loss: 0.0022 - mae: 0.0335\n",
            "Epoch 279/300\n",
            "112/112 [==============================] - 2s 21ms/step - loss: 0.0021 - mae: 0.0330\n",
            "Epoch 280/300\n",
            "112/112 [==============================] - 2s 21ms/step - loss: 0.0021 - mae: 0.0338\n",
            "Epoch 281/300\n",
            "112/112 [==============================] - 2s 21ms/step - loss: 0.0023 - mae: 0.0342\n",
            "Epoch 282/300\n",
            "112/112 [==============================] - 2s 21ms/step - loss: 0.0022 - mae: 0.0343\n",
            "Epoch 283/300\n",
            "112/112 [==============================] - 2s 21ms/step - loss: 0.0023 - mae: 0.0345\n",
            "Epoch 284/300\n",
            "112/112 [==============================] - 2s 21ms/step - loss: 0.0022 - mae: 0.0341\n",
            "Epoch 285/300\n",
            "112/112 [==============================] - 2s 21ms/step - loss: 0.0023 - mae: 0.0343\n",
            "Epoch 286/300\n",
            "112/112 [==============================] - 2s 21ms/step - loss: 0.0022 - mae: 0.0336\n",
            "Epoch 287/300\n",
            "112/112 [==============================] - 2s 21ms/step - loss: 0.0023 - mae: 0.0345\n",
            "Epoch 288/300\n",
            "112/112 [==============================] - 2s 21ms/step - loss: 0.0022 - mae: 0.0335\n",
            "Epoch 289/300\n",
            "112/112 [==============================] - 2s 21ms/step - loss: 0.0022 - mae: 0.0342\n",
            "Epoch 290/300\n",
            "112/112 [==============================] - 2s 21ms/step - loss: 0.0021 - mae: 0.0338\n",
            "Epoch 291/300\n",
            "112/112 [==============================] - 2s 21ms/step - loss: 0.0023 - mae: 0.0346\n",
            "Epoch 292/300\n",
            "112/112 [==============================] - 2s 21ms/step - loss: 0.0022 - mae: 0.0336\n",
            "Epoch 293/300\n",
            "112/112 [==============================] - 2s 21ms/step - loss: 0.0022 - mae: 0.0334\n",
            "Epoch 294/300\n",
            "112/112 [==============================] - 2s 21ms/step - loss: 0.0023 - mae: 0.0345\n",
            "Epoch 295/300\n",
            "112/112 [==============================] - 2s 21ms/step - loss: 0.0021 - mae: 0.0334\n",
            "Epoch 296/300\n",
            "112/112 [==============================] - 2s 21ms/step - loss: 0.0022 - mae: 0.0340\n",
            "Epoch 297/300\n",
            "112/112 [==============================] - 2s 21ms/step - loss: 0.0022 - mae: 0.0342\n",
            "Epoch 298/300\n",
            "112/112 [==============================] - 2s 21ms/step - loss: 0.0022 - mae: 0.0339\n",
            "Epoch 299/300\n",
            "112/112 [==============================] - 2s 21ms/step - loss: 0.0022 - mae: 0.0340\n",
            "Epoch 300/300\n",
            "112/112 [==============================] - 2s 21ms/step - loss: 0.0022 - mae: 0.0341\n"
          ],
          "name": "stdout"
        }
      ]
    },
    {
      "cell_type": "markdown",
      "metadata": {
        "id": "fBFX1yHemU-J",
        "colab_type": "text"
      },
      "source": [
        "### Prepação para testar o modelo"
      ]
    },
    {
      "cell_type": "code",
      "metadata": {
        "id": "eYj7S0RttMXd",
        "colab_type": "code",
        "colab": {}
      },
      "source": [
        "# Normalização do conjunto de teste\n",
        "scaler2 = MinMaxScaler(feature_range=(-1,1))\n",
        "scaler2 = scaler2.fit(test_data)\n",
        "\n",
        "normalized_test = scaler2.transform(test_data)"
      ],
      "execution_count": 34,
      "outputs": []
    },
    {
      "cell_type": "code",
      "metadata": {
        "id": "aC5k0yFihIws",
        "colab_type": "code",
        "colab": {}
      },
      "source": [
        "# Criação de janelas\n",
        "\n",
        "x_test=[]\n",
        "y_test = []\n",
        "for i in range(207,len(test_data)):\n",
        "    x_test.append(normalized_test[i-207:i,0])\n",
        "    y_test.append(normalized_test[i,0])"
      ],
      "execution_count": 35,
      "outputs": []
    },
    {
      "cell_type": "code",
      "metadata": {
        "id": "T2Rrd2D_iZvK",
        "colab_type": "code",
        "colab": {}
      },
      "source": [
        "x_test = np.array(x_test)\n",
        "y_test = np.array(y_test)"
      ],
      "execution_count": 36,
      "outputs": []
    },
    {
      "cell_type": "code",
      "metadata": {
        "id": "NlJVbxN0H8cg",
        "colab_type": "code",
        "colab": {}
      },
      "source": [
        "x_test = np.reshape(x_test, (x_test.shape[0],x_test.shape[1],1))"
      ],
      "execution_count": 37,
      "outputs": []
    },
    {
      "cell_type": "code",
      "metadata": {
        "id": "ssDvqELdIE-a",
        "colab_type": "code",
        "colab": {
          "base_uri": "https://localhost:8080/",
          "height": 34
        },
        "outputId": "f203b937-5ff3-4e4b-bc78-689f97eef752"
      },
      "source": [
        "x_test.shape"
      ],
      "execution_count": 38,
      "outputs": [
        {
          "output_type": "execute_result",
          "data": {
            "text/plain": [
              "(1050, 207, 1)"
            ]
          },
          "metadata": {
            "tags": []
          },
          "execution_count": 38
        }
      ]
    },
    {
      "cell_type": "code",
      "metadata": {
        "id": "tk_rR9Wphl1G",
        "colab_type": "code",
        "colab": {}
      },
      "source": [
        "# Previsão do modelo\n",
        "\n",
        "predicted = model.predict(x_test)"
      ],
      "execution_count": 39,
      "outputs": []
    },
    {
      "cell_type": "code",
      "metadata": {
        "id": "RPaVeGpiiARw",
        "colab_type": "code",
        "colab": {}
      },
      "source": [
        "predicted = scaler2.inverse_transform(predicted)"
      ],
      "execution_count": 40,
      "outputs": []
    },
    {
      "cell_type": "code",
      "metadata": {
        "id": "8Olo7FSR9Br5",
        "colab_type": "code",
        "colab": {}
      },
      "source": [
        "y_test = np.reshape(y_test, (y_test.shape[0],1))\n",
        "y_test = scaler2.inverse_transform(y_test)"
      ],
      "execution_count": 41,
      "outputs": []
    },
    {
      "cell_type": "code",
      "metadata": {
        "id": "jPMXhPPjKLpi",
        "colab_type": "code",
        "colab": {
          "base_uri": "https://localhost:8080/",
          "height": 52
        },
        "outputId": "984d06ef-6c08-45a3-df35-12835431bb48"
      },
      "source": [
        "from sklearn.metrics import mean_absolute_error\n",
        "\n",
        "\n",
        "mae = mean_absolute_error(predicted, y_test)\n",
        "print('MAE: ' + str(round(mae, 1)))\n",
        "\n",
        "# Calculate the root mean squarred error (RMSE)\n",
        "rmse = np.sqrt(np.mean(predicted - y_test)**2)\n",
        "print('RMSE: ' + str(round(rmse, 1)))"
      ],
      "execution_count": 42,
      "outputs": [
        {
          "output_type": "stream",
          "text": [
            "MAE: 0.7\n",
            "RMSE: 0.2\n"
          ],
          "name": "stdout"
        }
      ]
    },
    {
      "cell_type": "markdown",
      "metadata": {
        "id": "I9hTlwGIm61Y",
        "colab_type": "text"
      },
      "source": [
        "### Plotagem dos resultados"
      ]
    },
    {
      "cell_type": "code",
      "metadata": {
        "id": "btHOK_VzrOYZ",
        "colab_type": "code",
        "colab": {
          "base_uri": "https://localhost:8080/",
          "height": 592
        },
        "outputId": "8bb89b6c-1610-4f9e-8a9a-198fa9aa8ac1"
      },
      "source": [
        "plt.clf()\n",
        "plt.figure(figsize=(22,10))\n",
        "plt.plot(predicted, label='dados preditos')\n",
        "plt.plot(y_test, label='dados reais')\n",
        "plt.legend()\n",
        "plt.show()"
      ],
      "execution_count": 48,
      "outputs": [
        {
          "output_type": "display_data",
          "data": {
            "image/png": "[encoded data removed]",
            "text/plain": [
              "<Figure size 1584x720 with 1 Axes>"
            ]
          },
          "metadata": {
            "tags": [],
            "needs_background": "light"
          }
        }
      ]
    },
    {
      "cell_type": "markdown",
      "metadata": {
        "id": "kFucGjNTSvur",
        "colab_type": "text"
      },
      "source": [
        "# O modelo foi salvo para uso futuro"
      ]
    },
    {
      "cell_type": "code",
      "metadata": {
        "id": "VHgxF1NZrn6u",
        "colab_type": "code",
        "colab": {
          "base_uri": "https://localhost:8080/",
          "height": 159
        },
        "outputId": "1cbad4ae-7acd-4bcf-8b43-9c729d0d2f09"
      },
      "source": [
        "model.save('my_model')"
      ],
      "execution_count": 50,
      "outputs": [
        {
          "output_type": "stream",
          "text": [
            "WARNING:tensorflow:From /usr/local/lib/python3.6/dist-packages/tensorflow/python/training/tracking/tracking.py:111: Model.state_updates (from tensorflow.python.keras.engine.training) is deprecated and will be removed in a future version.\n",
            "Instructions for updating:\n",
            "This property should not be used in TensorFlow 2.0, as updates are applied automatically.\n",
            "WARNING:tensorflow:From /usr/local/lib/python3.6/dist-packages/tensorflow/python/training/tracking/tracking.py:111: Layer.updates (from tensorflow.python.keras.engine.base_layer) is deprecated and will be removed in a future version.\n",
            "Instructions for updating:\n",
            "This property should not be used in TensorFlow 2.0, as updates are applied automatically.\n",
            "INFO:tensorflow:Assets written to: my_model/assets\n"
          ],
          "name": "stdout"
        }
      ]
    },
    {
      "cell_type": "code",
      "metadata": {
        "id": "s4wCWyHt4V23",
        "colab_type": "code",
        "colab": {
          "base_uri": "https://localhost:8080/",
          "height": 364
        },
        "outputId": "ed067625-ba83-440f-da0c-ec83cd196752"
      },
      "source": [
        "from keras.models import load_model\n",
        " \n",
        "# load model\n",
        "model = load_model('/content/drive/My Drive/Colab Notebooks/my_model_sem_diff_sem_log')\n",
        "# summarize model.\n",
        "model.summary()\n"
      ],
      "execution_count": null,
      "outputs": [
        {
          "output_type": "stream",
          "text": [
            "Model: \"sequential\"\n",
            "_________________________________________________________________\n",
            "Layer (type)                 Output Shape              Param #   \n",
            "=================================================================\n",
            "lstm (LSTM)                  (None, 207, 207)          173052    \n",
            "_________________________________________________________________\n",
            "dropout (Dropout)            (None, 207, 207)          0         \n",
            "_________________________________________________________________\n",
            "lstm_1 (LSTM)                (None, 100)               123200    \n",
            "_________________________________________________________________\n",
            "dropout_1 (Dropout)          (None, 100)               0         \n",
            "_________________________________________________________________\n",
            "dense (Dense)                (None, 50)                5050      \n",
            "_________________________________________________________________\n",
            "dense_1 (Dense)              (None, 1)                 51        \n",
            "=================================================================\n",
            "Total params: 301,353\n",
            "Trainable params: 301,353\n",
            "Non-trainable params: 0\n",
            "_________________________________________________________________\n"
          ],
          "name": "stdout"
        }
      ]
    }
  ]
}