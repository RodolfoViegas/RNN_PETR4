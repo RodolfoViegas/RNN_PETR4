{
  "nbformat": 4,
  "nbformat_minor": 0,
  "metadata": {
    "colab": {
      "name": "Preparação_das_series_temporais(sem diff e sem log_transform).ipynb",
      "provenance": [],
      "mount_file_id": "1rUsWA88SWo0xHAZ0RXAfwAucEOXY0vVD",
      "authorship_tag": "ABX9TyPQ4lfNU4UKXeFJ9MDRw6R+",
      "include_colab_link": true
    },
    "kernelspec": {
      "name": "python3",
      "display_name": "Python 3"
    },
    "accelerator": "GPU"
  },
  "cells": [
    {
      "cell_type": "markdown",
      "metadata": {
        "id": "view-in-github",
        "colab_type": "text"
      },
      "source": [
        "<a href=\"https://colab.research.google.com/github/RodolfoViegas/RNN_PETR4/blob/master/Prepara%C3%A7%C3%A3o_das_series_temporais(sem_diff_e_sem_log_transform).ipynb\" target=\"_parent\"><img src=\"https://colab.research.google.com/assets/colab-badge.svg\" alt=\"Open In Colab\"/></a>"
      ]
    },
    {
      "cell_type": "markdown",
      "metadata": {
        "id": "xtdi6GE7deV3",
        "colab_type": "text"
      },
      "source": [
        "# Teste com as séries das ações PETR4 de 2000 a 2020"
      ]
    },
    {
      "cell_type": "code",
      "metadata": {
        "id": "GffATYGHJazm",
        "colab_type": "code",
        "colab": {}
      },
      "source": [
        "import pandas as pd\n",
        "import numpy as np\n",
        "from sklearn.preprocessing import MinMaxScaler\n",
        "import tensorflow as tf\n",
        "import matplotlib.pyplot as plt"
      ],
      "execution_count": 1,
      "outputs": []
    },
    {
      "cell_type": "code",
      "metadata": {
        "id": "it6s43eIQ2Pj",
        "colab_type": "code",
        "colab": {
          "resources": {
            "http://localhost:8080/nbextensions/google.colab/files.js": {
              "data": "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",
              "ok": true,
              "headers": [
                [
                  "content-type",
                  "application/javascript"
                ]
              ],
              "status": 200,
              "status_text": "OK"
            }
          },
          "base_uri": "https://localhost:8080/",
          "height": 79
        },
        "outputId": "e60544ce-6661-4446-9b8b-73975cefec90"
      },
      "source": [
        "from google.colab import files\n",
        "uploaded = files.upload()"
      ],
      "execution_count": 2,
      "outputs": [
        {
          "output_type": "display_data",
          "data": {
            "text/html": [
              "\n",
              "     <input type=\"file\" id=\"files-bb411a34-fba4-4f00-8c33-de31e48ef82c\" name=\"files[]\" multiple disabled\n",
              "        style=\"border:none\" />\n",
              "     <output id=\"result-bb411a34-fba4-4f00-8c33-de31e48ef82c\">\n",
              "      Upload widget is only available when the cell has been executed in the\n",
              "      current browser session. Please rerun this cell to enable.\n",
              "      </output>\n",
              "      <script src=\"/nbextensions/google.colab/files.js\"></script> "
            ],
            "text/plain": [
              "<IPython.core.display.HTML object>"
            ]
          },
          "metadata": {
            "tags": []
          }
        },
        {
          "output_type": "stream",
          "text": [
            "Saving PETR4.SA.csv to PETR4.SA.csv\n"
          ],
          "name": "stdout"
        }
      ]
    },
    {
      "cell_type": "code",
      "metadata": {
        "id": "OpavfP6qRIUe",
        "colab_type": "code",
        "colab": {}
      },
      "source": [
        "df = pd.read_csv('/content/PETR4.SA.csv')"
      ],
      "execution_count": 3,
      "outputs": []
    },
    {
      "cell_type": "code",
      "metadata": {
        "id": "qJsUDHWcRcGz",
        "colab_type": "code",
        "colab": {
          "base_uri": "https://localhost:8080/",
          "height": 206
        },
        "outputId": "0ec3606a-11a2-4db6-cdc5-c4b1195dcc1e"
      },
      "source": [
        "df.head()"
      ],
      "execution_count": 4,
      "outputs": [
        {
          "output_type": "execute_result",
          "data": {
            "text/html": [
              "<div>\n",
              "<style scoped>\n",
              "    .dataframe tbody tr th:only-of-type {\n",
              "        vertical-align: middle;\n",
              "    }\n",
              "\n",
              "    .dataframe tbody tr th {\n",
              "        vertical-align: top;\n",
              "    }\n",
              "\n",
              "    .dataframe thead th {\n",
              "        text-align: right;\n",
              "    }\n",
              "</style>\n",
              "<table border=\"1\" class=\"dataframe\">\n",
              "  <thead>\n",
              "    <tr style=\"text-align: right;\">\n",
              "      <th></th>\n",
              "      <th>Date</th>\n",
              "      <th>Open</th>\n",
              "      <th>High</th>\n",
              "      <th>Low</th>\n",
              "      <th>Close</th>\n",
              "      <th>Adj Close</th>\n",
              "      <th>Volume</th>\n",
              "    </tr>\n",
              "  </thead>\n",
              "  <tbody>\n",
              "    <tr>\n",
              "      <th>0</th>\n",
              "      <td>2000-01-03</td>\n",
              "      <td>5.875</td>\n",
              "      <td>5.875</td>\n",
              "      <td>5.875</td>\n",
              "      <td>5.875</td>\n",
              "      <td>4.050183</td>\n",
              "      <td>3.538944e+10</td>\n",
              "    </tr>\n",
              "    <tr>\n",
              "      <th>1</th>\n",
              "      <td>2000-01-04</td>\n",
              "      <td>5.550</td>\n",
              "      <td>5.550</td>\n",
              "      <td>5.550</td>\n",
              "      <td>5.550</td>\n",
              "      <td>3.826131</td>\n",
              "      <td>2.886144e+10</td>\n",
              "    </tr>\n",
              "    <tr>\n",
              "      <th>2</th>\n",
              "      <td>2000-01-05</td>\n",
              "      <td>5.494</td>\n",
              "      <td>5.494</td>\n",
              "      <td>5.494</td>\n",
              "      <td>5.494</td>\n",
              "      <td>3.787526</td>\n",
              "      <td>4.303360e+10</td>\n",
              "    </tr>\n",
              "    <tr>\n",
              "      <th>3</th>\n",
              "      <td>2000-01-06</td>\n",
              "      <td>5.475</td>\n",
              "      <td>5.475</td>\n",
              "      <td>5.475</td>\n",
              "      <td>5.475</td>\n",
              "      <td>3.774427</td>\n",
              "      <td>3.405568e+10</td>\n",
              "    </tr>\n",
              "    <tr>\n",
              "      <th>4</th>\n",
              "      <td>2000-01-07</td>\n",
              "      <td>5.500</td>\n",
              "      <td>5.500</td>\n",
              "      <td>5.500</td>\n",
              "      <td>5.500</td>\n",
              "      <td>3.791661</td>\n",
              "      <td>2.091264e+10</td>\n",
              "    </tr>\n",
              "  </tbody>\n",
              "</table>\n",
              "</div>"
            ],
            "text/plain": [
              "         Date   Open   High    Low  Close  Adj Close        Volume\n",
              "0  2000-01-03  5.875  5.875  5.875  5.875   4.050183  3.538944e+10\n",
              "1  2000-01-04  5.550  5.550  5.550  5.550   3.826131  2.886144e+10\n",
              "2  2000-01-05  5.494  5.494  5.494  5.494   3.787526  4.303360e+10\n",
              "3  2000-01-06  5.475  5.475  5.475  5.475   3.774427  3.405568e+10\n",
              "4  2000-01-07  5.500  5.500  5.500  5.500   3.791661  2.091264e+10"
            ]
          },
          "metadata": {
            "tags": []
          },
          "execution_count": 4
        }
      ]
    },
    {
      "cell_type": "code",
      "metadata": {
        "id": "el1hOsl1Geds",
        "colab_type": "code",
        "colab": {
          "base_uri": "https://localhost:8080/",
          "height": 206
        },
        "outputId": "ac1819fe-f1c0-42df-f04b-d35a6c14b77d"
      },
      "source": [
        "df.tail()"
      ],
      "execution_count": 5,
      "outputs": [
        {
          "output_type": "execute_result",
          "data": {
            "text/html": [
              "<div>\n",
              "<style scoped>\n",
              "    .dataframe tbody tr th:only-of-type {\n",
              "        vertical-align: middle;\n",
              "    }\n",
              "\n",
              "    .dataframe tbody tr th {\n",
              "        vertical-align: top;\n",
              "    }\n",
              "\n",
              "    .dataframe thead th {\n",
              "        text-align: right;\n",
              "    }\n",
              "</style>\n",
              "<table border=\"1\" class=\"dataframe\">\n",
              "  <thead>\n",
              "    <tr style=\"text-align: right;\">\n",
              "      <th></th>\n",
              "      <th>Date</th>\n",
              "      <th>Open</th>\n",
              "      <th>High</th>\n",
              "      <th>Low</th>\n",
              "      <th>Close</th>\n",
              "      <th>Adj Close</th>\n",
              "      <th>Volume</th>\n",
              "    </tr>\n",
              "  </thead>\n",
              "  <tbody>\n",
              "    <tr>\n",
              "      <th>5138</th>\n",
              "      <td>2020-06-03</td>\n",
              "      <td>21.860001</td>\n",
              "      <td>21.910000</td>\n",
              "      <td>21.410000</td>\n",
              "      <td>21.469999</td>\n",
              "      <td>21.469999</td>\n",
              "      <td>86219700.0</td>\n",
              "    </tr>\n",
              "    <tr>\n",
              "      <th>5139</th>\n",
              "      <td>2020-06-04</td>\n",
              "      <td>21.389999</td>\n",
              "      <td>21.780001</td>\n",
              "      <td>21.040001</td>\n",
              "      <td>21.430000</td>\n",
              "      <td>21.430000</td>\n",
              "      <td>107401400.0</td>\n",
              "    </tr>\n",
              "    <tr>\n",
              "      <th>5140</th>\n",
              "      <td>2020-06-05</td>\n",
              "      <td>22.290001</td>\n",
              "      <td>23.030001</td>\n",
              "      <td>22.059999</td>\n",
              "      <td>22.100000</td>\n",
              "      <td>22.100000</td>\n",
              "      <td>114137700.0</td>\n",
              "    </tr>\n",
              "    <tr>\n",
              "      <th>5141</th>\n",
              "      <td>2020-06-08</td>\n",
              "      <td>22.549999</td>\n",
              "      <td>22.590000</td>\n",
              "      <td>22.010000</td>\n",
              "      <td>22.530001</td>\n",
              "      <td>22.530001</td>\n",
              "      <td>82444400.0</td>\n",
              "    </tr>\n",
              "    <tr>\n",
              "      <th>5142</th>\n",
              "      <td>2020-06-09</td>\n",
              "      <td>22.030001</td>\n",
              "      <td>22.040001</td>\n",
              "      <td>21.639999</td>\n",
              "      <td>21.719999</td>\n",
              "      <td>21.719999</td>\n",
              "      <td>96488300.0</td>\n",
              "    </tr>\n",
              "  </tbody>\n",
              "</table>\n",
              "</div>"
            ],
            "text/plain": [
              "            Date       Open       High  ...      Close  Adj Close       Volume\n",
              "5138  2020-06-03  21.860001  21.910000  ...  21.469999  21.469999   86219700.0\n",
              "5139  2020-06-04  21.389999  21.780001  ...  21.430000  21.430000  107401400.0\n",
              "5140  2020-06-05  22.290001  23.030001  ...  22.100000  22.100000  114137700.0\n",
              "5141  2020-06-08  22.549999  22.590000  ...  22.530001  22.530001   82444400.0\n",
              "5142  2020-06-09  22.030001  22.040001  ...  21.719999  21.719999   96488300.0\n",
              "\n",
              "[5 rows x 7 columns]"
            ]
          },
          "metadata": {
            "tags": []
          },
          "execution_count": 5
        }
      ]
    },
    {
      "cell_type": "code",
      "metadata": {
        "id": "c2gkgwfVGlHl",
        "colab_type": "code",
        "colab": {
          "base_uri": "https://localhost:8080/",
          "height": 260
        },
        "outputId": "ae729532-e80a-4e6a-fd42-5719598006ec"
      },
      "source": [
        "df.info()"
      ],
      "execution_count": 6,
      "outputs": [
        {
          "output_type": "stream",
          "text": [
            "<class 'pandas.core.frame.DataFrame'>\n",
            "RangeIndex: 5143 entries, 0 to 5142\n",
            "Data columns (total 7 columns):\n",
            " #   Column     Non-Null Count  Dtype  \n",
            "---  ------     --------------  -----  \n",
            " 0   Date       5143 non-null   object \n",
            " 1   Open       5026 non-null   float64\n",
            " 2   High       5026 non-null   float64\n",
            " 3   Low        5026 non-null   float64\n",
            " 4   Close      5026 non-null   float64\n",
            " 5   Adj Close  5026 non-null   float64\n",
            " 6   Volume     5026 non-null   float64\n",
            "dtypes: float64(6), object(1)\n",
            "memory usage: 281.4+ KB\n"
          ],
          "name": "stdout"
        }
      ]
    },
    {
      "cell_type": "code",
      "metadata": {
        "id": "g0_lmvhLnEgA",
        "colab_type": "code",
        "colab": {}
      },
      "source": [
        "# Exclusão de dados faltantes\n",
        "\n",
        "df.dropna(inplace=True)"
      ],
      "execution_count": 7,
      "outputs": []
    },
    {
      "cell_type": "code",
      "metadata": {
        "id": "6y1rLPyYSRFX",
        "colab_type": "code",
        "colab": {
          "base_uri": "https://localhost:8080/",
          "height": 34
        },
        "outputId": "3a6208e6-e8f6-4e6e-9f81-e835f76da531"
      },
      "source": [
        "df.shape "
      ],
      "execution_count": 8,
      "outputs": [
        {
          "output_type": "execute_result",
          "data": {
            "text/plain": [
              "(5026, 7)"
            ]
          },
          "metadata": {
            "tags": []
          },
          "execution_count": 8
        }
      ]
    },
    {
      "cell_type": "code",
      "metadata": {
        "id": "5KOr5zTAhDpJ",
        "colab_type": "code",
        "colab": {}
      },
      "source": [
        "df['Date'] = pd.to_datetime(df['Date'])"
      ],
      "execution_count": 9,
      "outputs": []
    },
    {
      "cell_type": "code",
      "metadata": {
        "id": "NqnYp4gscCvW",
        "colab_type": "code",
        "colab": {
          "base_uri": "https://localhost:8080/",
          "height": 390
        },
        "outputId": "47492a48-509d-4135-e393-899c79fc23e1"
      },
      "source": [
        "plt.figure(figsize=(18,6))\n",
        "plt.title(\"Ações PETR4 de 2000 a 2019\")\n",
        "plt.plot(df['Date'],df['Close'])\n",
        "\n",
        "plt.show()"
      ],
      "execution_count": 10,
      "outputs": [
        {
          "output_type": "display_data",
          "data": {
            "image/png": "[encoded data removed]",
            "text/plain": [
              "<Figure size 1296x432 with 1 Axes>"
            ]
          },
          "metadata": {
            "tags": [],
            "needs_background": "light"
          }
        }
      ]
    },
    {
      "cell_type": "code",
      "metadata": {
        "id": "rNChyzp6lA8g",
        "colab_type": "code",
        "colab": {
          "base_uri": "https://localhost:8080/",
          "height": 34
        },
        "outputId": "8ef4d84e-f621-4a1a-ef45-457772ee63d3"
      },
      "source": [
        "# Média e variância da série\n",
        "\n",
        "media = df['Close'].mean()\n",
        "var = df['Close'].var()\n",
        "print('média %f, variância %i' %(media, var))"
      ],
      "execution_count": 11,
      "outputs": [
        {
          "output_type": "stream",
          "text": [
            "média 18.000403, variância 90\n"
          ],
          "name": "stdout"
        }
      ]
    },
    {
      "cell_type": "code",
      "metadata": {
        "id": "Qf283hJPwiJq",
        "colab_type": "code",
        "colab": {
          "base_uri": "https://localhost:8080/",
          "height": 265
        },
        "outputId": "0032bb74-7a48-48e2-fc6b-6798c7a2cc80"
      },
      "source": [
        "plt.hist(df['Close'])\n",
        "plt.show()"
      ],
      "execution_count": 12,
      "outputs": [
        {
          "output_type": "display_data",
          "data": {
            "image/png": "[encoded data removed]",
            "text/plain": [
              "<Figure size 432x288 with 1 Axes>"
            ]
          },
          "metadata": {
            "tags": [],
            "needs_background": "light"
          }
        }
      ]
    },
    {
      "cell_type": "code",
      "metadata": {
        "id": "W9Ir0K5dlX2i",
        "colab_type": "code",
        "colab": {
          "base_uri": "https://localhost:8080/",
          "height": 52
        },
        "outputId": "141bade7-dc34-43c5-f7d9-9250c7573423"
      },
      "source": [
        "# Média e variância de partes da séries quando particionada em duas\n",
        "\n",
        "split = round(len(df['Close'])/2)\n",
        "x = df['Close']\n",
        "x1, x2 = x[0:split], x[split:]\n",
        "media1, media2 = x1.mean(), x2.mean()\n",
        "var1, var2 = x1.var(), x2.var()\n",
        "print(\"X1 média %f, variância %f\" %(media1,var1))\n",
        "print(\"X2 média %f, variância %f\" %(media2,var2))"
      ],
      "execution_count": 13,
      "outputs": [
        {
          "output_type": "stream",
          "text": [
            "X1 média 16.879320, variância 135.358284\n",
            "X2 média 19.121487, variância 44.023526\n"
          ],
          "name": "stdout"
        }
      ]
    },
    {
      "cell_type": "code",
      "metadata": {
        "id": "y5_PZnZVwqdJ",
        "colab_type": "code",
        "colab": {
          "base_uri": "https://localhost:8080/",
          "height": 265
        },
        "outputId": "13e35bb7-42af-42b5-aadb-6177fd5f61be"
      },
      "source": [
        "plt.hist(x1)\n",
        "plt.show()"
      ],
      "execution_count": 14,
      "outputs": [
        {
          "output_type": "display_data",
          "data": {
            "image/png": "[encoded data removed]",
            "text/plain": [
              "<Figure size 432x288 with 1 Axes>"
            ]
          },
          "metadata": {
            "tags": [],
            "needs_background": "light"
          }
        }
      ]
    },
    {
      "cell_type": "code",
      "metadata": {
        "id": "UAu4P-mOwuM8",
        "colab_type": "code",
        "colab": {
          "base_uri": "https://localhost:8080/",
          "height": 265
        },
        "outputId": "63810ed7-e9ff-481a-a759-7fe6a4d80e72"
      },
      "source": [
        "plt.hist(x2)\n",
        "plt.show()"
      ],
      "execution_count": 15,
      "outputs": [
        {
          "output_type": "display_data",
          "data": {
            "image/png": "[encoded data removed]",
            "text/plain": [
              "<Figure size 432x288 with 1 Axes>"
            ]
          },
          "metadata": {
            "tags": [],
            "needs_background": "light"
          }
        }
      ]
    },
    {
      "cell_type": "code",
      "metadata": {
        "id": "KfCiAMmIzW4j",
        "colab_type": "code",
        "colab": {
          "base_uri": "https://localhost:8080/",
          "height": 265
        },
        "outputId": "1de7ceeb-226e-4c48-e6e4-8e327fa0330f"
      },
      "source": [
        "# Log transform para retirar a mudança da variância através do tempo deixando a séries linear.\n",
        "\n",
        "logx= np.log(df.Close)\n",
        "plt.hist(logx)\n",
        "plt.show()"
      ],
      "execution_count": 16,
      "outputs": [
        {
          "output_type": "display_data",
          "data": {
            "image/png": "[encoded data removed]",
            "text/plain": [
              "<Figure size 432x288 with 1 Axes>"
            ]
          },
          "metadata": {
            "tags": [],
            "needs_background": "light"
          }
        }
      ]
    },
    {
      "cell_type": "code",
      "metadata": {
        "id": "p3Ehv-GTznoJ",
        "colab_type": "code",
        "colab": {
          "base_uri": "https://localhost:8080/",
          "height": 265
        },
        "outputId": "83dfea77-d684-43bf-f7e6-dc3e8585268f"
      },
      "source": [
        "plt.plot(logx)\n",
        "plt.show()"
      ],
      "execution_count": 17,
      "outputs": [
        {
          "output_type": "display_data",
          "data": {
            "image/png": "[encoded data removed]",
            "text/plain": [
              "<Figure size 432x288 with 1 Axes>"
            ]
          },
          "metadata": {
            "tags": [],
            "needs_background": "light"
          }
        }
      ]
    },
    {
      "cell_type": "code",
      "metadata": {
        "id": "aZoYy7plifTf",
        "colab_type": "code",
        "colab": {
          "base_uri": "https://localhost:8080/",
          "height": 52
        },
        "outputId": "63190d02-d468-4d7c-f89d-9da07eab50ae"
      },
      "source": [
        "\n",
        "split = round(len(logx) / 2)\n",
        "x1, x2 = logx[0:split], logx[split:]\n",
        "mean1, mean2 = x1.mean(), x2.mean()\n",
        "var1, var2 = x1.var(), x2.var()\n",
        "print('x1 média %f, x1 variância %f' % (mean1, var1))\n",
        "print('x2 média %f, x2 variância %f' % (mean1, var2))\n"
      ],
      "execution_count": 18,
      "outputs": [
        {
          "output_type": "stream",
          "text": [
            "x1 média 2.584394, x1 variância 0.490570\n",
            "x2 média 2.584394, x2 variância 0.159889\n"
          ],
          "name": "stdout"
        }
      ]
    },
    {
      "cell_type": "code",
      "metadata": {
        "id": "GjcVeP6fLMB9",
        "colab_type": "code",
        "colab": {
          "base_uri": "https://localhost:8080/",
          "height": 34
        },
        "outputId": "0a3bf265-cce2-4ea1-cac9-92a1b69204b0"
      },
      "source": [
        "# Definir quantidade para treino e teste\n",
        "tamanho = int(np.ceil(df.shape[0]) * .75)\n",
        "print(tamanho)"
      ],
      "execution_count": 19,
      "outputs": [
        {
          "output_type": "stream",
          "text": [
            "3769\n"
          ],
          "name": "stdout"
        }
      ]
    },
    {
      "cell_type": "code",
      "metadata": {
        "id": "RSh8hAvPFjTj",
        "colab_type": "code",
        "colab": {}
      },
      "source": [
        "# separar os valores da coluna Close e transformá-los para um vector numpy\n",
        "data = df.filter(['Close'])\n",
        "data = data.values"
      ],
      "execution_count": 20,
      "outputs": []
    },
    {
      "cell_type": "code",
      "metadata": {
        "id": "aoNp6ezxPh5d",
        "colab_type": "code",
        "colab": {}
      },
      "source": [
        "# Criação dos conjuntos de treino e teste a partir dos dados normalizados\n",
        "\n",
        "train_data = data[:tamanho]\n",
        "test_data = data[tamanho:]\n"
      ],
      "execution_count": 21,
      "outputs": []
    },
    {
      "cell_type": "code",
      "metadata": {
        "id": "XfZTctL4RWmN",
        "colab_type": "code",
        "colab": {
          "base_uri": "https://localhost:8080/",
          "height": 34
        },
        "outputId": "00231613-deee-4663-8499-8a5a3a02648e"
      },
      "source": [
        "train_data.shape"
      ],
      "execution_count": 22,
      "outputs": [
        {
          "output_type": "execute_result",
          "data": {
            "text/plain": [
              "(3769, 1)"
            ]
          },
          "metadata": {
            "tags": []
          },
          "execution_count": 22
        }
      ]
    },
    {
      "cell_type": "code",
      "metadata": {
        "id": "abNiyMoQ3mlO",
        "colab_type": "code",
        "colab": {}
      },
      "source": [
        "# Remodelando os conjuntos de dados para tensores 2D, assim podendo-os normalizar\n",
        "train_data = train_data.reshape((train_data.shape[0],1))\n",
        "test_data = test_data.reshape((test_data.shape[0],1))"
      ],
      "execution_count": 23,
      "outputs": []
    },
    {
      "cell_type": "code",
      "metadata": {
        "id": "FaQhI31Lh9hs",
        "colab_type": "code",
        "colab": {
          "base_uri": "https://localhost:8080/",
          "height": 407
        },
        "outputId": "4ad53133-0551-4d55-b633-2c15869c62e4"
      },
      "source": [
        "plt.clf()\n",
        "plt.figure(figsize=(18,6))\n",
        "plt.title(\"Ações PETR4 de 2000 a 2019\")\n",
        "plt.plot(df['Close'].iloc[:tamanho])\n",
        "plt.plot(df['Close'].iloc[tamanho:])\n",
        "plt.show()"
      ],
      "execution_count": 24,
      "outputs": [
        {
          "output_type": "display_data",
          "data": {
            "text/plain": [
              "<Figure size 432x288 with 0 Axes>"
            ]
          },
          "metadata": {
            "tags": []
          }
        },
        {
          "output_type": "display_data",
          "data": {
            "image/png": "[encoded data removed]",
            "text/plain": [
              "<Figure size 1296x432 with 1 Axes>"
            ]
          },
          "metadata": {
            "tags": [],
            "needs_background": "light"
          }
        }
      ]
    },
    {
      "cell_type": "code",
      "metadata": {
        "id": "UVh3gYMNg_45",
        "colab_type": "code",
        "colab": {}
      },
      "source": [
        "# Normalização dos valores para serem entre 0 e 1\n",
        "\n",
        "scaler = MinMaxScaler(feature_range=(0,1))\n",
        "scaler = scaler.fit(train_data)\n",
        "\n",
        "normalized = scaler.transform(train_data)\n",
        "\n",
        "#inversed = scaler.inverse_transform(normalized)"
      ],
      "execution_count": 25,
      "outputs": []
    },
    {
      "cell_type": "code",
      "metadata": {
        "id": "OW-11rtLmQZH",
        "colab_type": "code",
        "colab": {}
      },
      "source": [
        "# Separação dos dados em entradas (x) e saídas (y)\n",
        "\n",
        "x_train=[]\n",
        "y_train = []\n",
        "for i in range(207,len(normalized)):\n",
        "    x_train.append(normalized[i-207:i,0])\n",
        "    y_train.append(normalized[i,0])"
      ],
      "execution_count": 26,
      "outputs": []
    },
    {
      "cell_type": "code",
      "metadata": {
        "id": "BWZRlOgPQVSG",
        "colab_type": "code",
        "colab": {}
      },
      "source": [
        "x_train, y_train = np.array(x_train), np.array(y_train)"
      ],
      "execution_count": 27,
      "outputs": []
    },
    {
      "cell_type": "code",
      "metadata": {
        "id": "rxs0Xlz0QXGC",
        "colab_type": "code",
        "colab": {
          "base_uri": "https://localhost:8080/",
          "height": 34
        },
        "outputId": "52af1570-2084-4108-8d84-7aa8afd2eca0"
      },
      "source": [
        "x_train.shape #(3914,60) (3767, 207)"
      ],
      "execution_count": 28,
      "outputs": [
        {
          "output_type": "execute_result",
          "data": {
            "text/plain": [
              "(3562, 207)"
            ]
          },
          "metadata": {
            "tags": []
          },
          "execution_count": 28
        }
      ]
    },
    {
      "cell_type": "code",
      "metadata": {
        "id": "2D_wLKZPRPYc",
        "colab_type": "code",
        "colab": {}
      },
      "source": [
        "# Remodelando o o conjunto treino para um tensor 3D\n",
        "\n",
        "x_train = np.reshape(x_train, (x_train.shape[0],x_train.shape[1],1))"
      ],
      "execution_count": 29,
      "outputs": []
    },
    {
      "cell_type": "code",
      "metadata": {
        "id": "QQBopvZGSbtB",
        "colab_type": "code",
        "colab": {
          "base_uri": "https://localhost:8080/",
          "height": 34
        },
        "outputId": "1d38498d-9270-48ea-e936-42b6543ebf49"
      },
      "source": [
        "x_train.shape #(3914, 60, 1) (3562, 207, 1)"
      ],
      "execution_count": 30,
      "outputs": [
        {
          "output_type": "execute_result",
          "data": {
            "text/plain": [
              "(3562, 207, 1)"
            ]
          },
          "metadata": {
            "tags": []
          },
          "execution_count": 30
        }
      ]
    },
    {
      "cell_type": "markdown",
      "metadata": {
        "id": "ycJwesvB4QaH",
        "colab_type": "text"
      },
      "source": [
        "## Montagem da RNN"
      ]
    },
    {
      "cell_type": "code",
      "metadata": {
        "id": "HOkTrpKeSfYR",
        "colab_type": "code",
        "colab": {}
      },
      "source": [
        "# Montagem da LSTM\n",
        "tf.keras.backend.clear_session()\n",
        "\n",
        "model = tf.keras.models.Sequential()\n",
        "model.add(tf.keras.layers.LSTM(200, return_sequences=True,input_shape=(x_train.shape[1],1)))\n",
        "model.add(tf.keras.layers.Dropout(0.2))\n",
        "model.add(tf.keras.layers.LSTM(100))\n",
        "model.add(tf.keras.layers.Dropout(0.2))\n",
        "model.add(tf.keras.layers.Dense(50,activation='relu'))\n",
        "model.add(tf.keras.layers.Dense(1))"
      ],
      "execution_count": 31,
      "outputs": []
    },
    {
      "cell_type": "code",
      "metadata": {
        "id": "3RK5KvgqToHZ",
        "colab_type": "code",
        "colab": {}
      },
      "source": [
        "model.compile(loss='mse',\n",
        "              optimizer='sgd',\n",
        "              metrics=[\"mae\"])"
      ],
      "execution_count": 33,
      "outputs": []
    },
    {
      "cell_type": "code",
      "metadata": {
        "id": "Lu8LUPwnlDTj",
        "colab_type": "code",
        "colab": {
          "base_uri": "https://localhost:8080/",
          "height": 1000
        },
        "outputId": "ed164610-f8ca-4e34-925d-46778912e7d8"
      },
      "source": [
        "history = model.fit(x_train,y_train ,epochs=200)#, callbacks=[lr_schedule])"
      ],
      "execution_count": 34,
      "outputs": [
        {
          "output_type": "stream",
          "text": [
            "Epoch 1/200\n",
            "112/112 [==============================] - 2s 21ms/step - loss: 0.0397 - mae: 0.1572\n",
            "Epoch 2/200\n",
            "112/112 [==============================] - 2s 20ms/step - loss: 0.0191 - mae: 0.1112\n",
            "Epoch 3/200\n",
            "112/112 [==============================] - 2s 20ms/step - loss: 0.0065 - mae: 0.0617\n",
            "Epoch 4/200\n",
            "112/112 [==============================] - 2s 20ms/step - loss: 0.0025 - mae: 0.0353\n",
            "Epoch 5/200\n",
            "112/112 [==============================] - 2s 20ms/step - loss: 0.0019 - mae: 0.0305\n",
            "Epoch 6/200\n",
            "112/112 [==============================] - 2s 20ms/step - loss: 0.0018 - mae: 0.0304\n",
            "Epoch 7/200\n",
            "112/112 [==============================] - 2s 20ms/step - loss: 0.0019 - mae: 0.0304\n",
            "Epoch 8/200\n",
            "112/112 [==============================] - 2s 20ms/step - loss: 0.0018 - mae: 0.0299\n",
            "Epoch 9/200\n",
            "112/112 [==============================] - 2s 20ms/step - loss: 0.0017 - mae: 0.0289\n",
            "Epoch 10/200\n",
            "112/112 [==============================] - 2s 20ms/step - loss: 0.0017 - mae: 0.0289\n",
            "Epoch 11/200\n",
            "112/112 [==============================] - 2s 20ms/step - loss: 0.0017 - mae: 0.0289\n",
            "Epoch 12/200\n",
            "112/112 [==============================] - 2s 20ms/step - loss: 0.0016 - mae: 0.0284\n",
            "Epoch 13/200\n",
            "112/112 [==============================] - 2s 20ms/step - loss: 0.0015 - mae: 0.0280\n",
            "Epoch 14/200\n",
            "112/112 [==============================] - 2s 20ms/step - loss: 0.0016 - mae: 0.0281\n",
            "Epoch 15/200\n",
            "112/112 [==============================] - 2s 20ms/step - loss: 0.0016 - mae: 0.0281\n",
            "Epoch 16/200\n",
            "112/112 [==============================] - 2s 20ms/step - loss: 0.0015 - mae: 0.0276\n",
            "Epoch 17/200\n",
            "112/112 [==============================] - 2s 20ms/step - loss: 0.0015 - mae: 0.0272\n",
            "Epoch 18/200\n",
            "112/112 [==============================] - 2s 20ms/step - loss: 0.0015 - mae: 0.0269\n",
            "Epoch 19/200\n",
            "112/112 [==============================] - 2s 20ms/step - loss: 0.0016 - mae: 0.0277\n",
            "Epoch 20/200\n",
            "112/112 [==============================] - 2s 20ms/step - loss: 0.0014 - mae: 0.0270\n",
            "Epoch 21/200\n",
            "112/112 [==============================] - 2s 20ms/step - loss: 0.0014 - mae: 0.0272\n",
            "Epoch 22/200\n",
            "112/112 [==============================] - 2s 20ms/step - loss: 0.0015 - mae: 0.0271\n",
            "Epoch 23/200\n",
            "112/112 [==============================] - 2s 20ms/step - loss: 0.0013 - mae: 0.0260\n",
            "Epoch 24/200\n",
            "112/112 [==============================] - 2s 20ms/step - loss: 0.0013 - mae: 0.0262\n",
            "Epoch 25/200\n",
            "112/112 [==============================] - 2s 20ms/step - loss: 0.0014 - mae: 0.0264\n",
            "Epoch 26/200\n",
            "112/112 [==============================] - 2s 20ms/step - loss: 0.0014 - mae: 0.0268\n",
            "Epoch 27/200\n",
            "112/112 [==============================] - 2s 20ms/step - loss: 0.0014 - mae: 0.0263\n",
            "Epoch 28/200\n",
            "112/112 [==============================] - 2s 20ms/step - loss: 0.0014 - mae: 0.0259\n",
            "Epoch 29/200\n",
            "112/112 [==============================] - 2s 20ms/step - loss: 0.0014 - mae: 0.0265\n",
            "Epoch 30/200\n",
            "112/112 [==============================] - 2s 20ms/step - loss: 0.0014 - mae: 0.0266\n",
            "Epoch 31/200\n",
            "112/112 [==============================] - 2s 20ms/step - loss: 0.0013 - mae: 0.0261\n",
            "Epoch 32/200\n",
            "112/112 [==============================] - 2s 20ms/step - loss: 0.0014 - mae: 0.0261\n",
            "Epoch 33/200\n",
            "112/112 [==============================] - 2s 20ms/step - loss: 0.0013 - mae: 0.0260\n",
            "Epoch 34/200\n",
            "112/112 [==============================] - 2s 20ms/step - loss: 0.0013 - mae: 0.0258\n",
            "Epoch 35/200\n",
            "112/112 [==============================] - 2s 20ms/step - loss: 0.0013 - mae: 0.0257\n",
            "Epoch 36/200\n",
            "112/112 [==============================] - 2s 20ms/step - loss: 0.0013 - mae: 0.0257\n",
            "Epoch 37/200\n",
            "112/112 [==============================] - 2s 20ms/step - loss: 0.0013 - mae: 0.0256\n",
            "Epoch 38/200\n",
            "112/112 [==============================] - 2s 20ms/step - loss: 0.0013 - mae: 0.0254\n",
            "Epoch 39/200\n",
            "112/112 [==============================] - 2s 20ms/step - loss: 0.0013 - mae: 0.0253\n",
            "Epoch 40/200\n",
            "112/112 [==============================] - 2s 20ms/step - loss: 0.0013 - mae: 0.0256\n",
            "Epoch 41/200\n",
            "112/112 [==============================] - 2s 20ms/step - loss: 0.0013 - mae: 0.0251\n",
            "Epoch 42/200\n",
            "112/112 [==============================] - 2s 20ms/step - loss: 0.0013 - mae: 0.0254\n",
            "Epoch 43/200\n",
            "112/112 [==============================] - 2s 20ms/step - loss: 0.0013 - mae: 0.0255\n",
            "Epoch 44/200\n",
            "112/112 [==============================] - 2s 20ms/step - loss: 0.0012 - mae: 0.0252\n",
            "Epoch 45/200\n",
            "112/112 [==============================] - 2s 20ms/step - loss: 0.0013 - mae: 0.0255\n",
            "Epoch 46/200\n",
            "112/112 [==============================] - 2s 20ms/step - loss: 0.0012 - mae: 0.0252\n",
            "Epoch 47/200\n",
            "112/112 [==============================] - 2s 20ms/step - loss: 0.0012 - mae: 0.0247\n",
            "Epoch 48/200\n",
            "112/112 [==============================] - 2s 20ms/step - loss: 0.0012 - mae: 0.0251\n",
            "Epoch 49/200\n",
            "112/112 [==============================] - 2s 20ms/step - loss: 0.0013 - mae: 0.0255\n",
            "Epoch 50/200\n",
            "112/112 [==============================] - 2s 20ms/step - loss: 0.0013 - mae: 0.0254\n",
            "Epoch 51/200\n",
            "112/112 [==============================] - 2s 20ms/step - loss: 0.0012 - mae: 0.0252\n",
            "Epoch 52/200\n",
            "112/112 [==============================] - 2s 20ms/step - loss: 0.0012 - mae: 0.0249\n",
            "Epoch 53/200\n",
            "112/112 [==============================] - 2s 20ms/step - loss: 0.0012 - mae: 0.0251\n",
            "Epoch 54/200\n",
            "112/112 [==============================] - 2s 20ms/step - loss: 0.0012 - mae: 0.0251\n",
            "Epoch 55/200\n",
            "112/112 [==============================] - 2s 20ms/step - loss: 0.0012 - mae: 0.0251\n",
            "Epoch 56/200\n",
            "112/112 [==============================] - 2s 20ms/step - loss: 0.0012 - mae: 0.0246\n",
            "Epoch 57/200\n",
            "112/112 [==============================] - 2s 20ms/step - loss: 0.0012 - mae: 0.0242\n",
            "Epoch 58/200\n",
            "112/112 [==============================] - 2s 20ms/step - loss: 0.0012 - mae: 0.0248\n",
            "Epoch 59/200\n",
            "112/112 [==============================] - 2s 20ms/step - loss: 0.0011 - mae: 0.0242\n",
            "Epoch 60/200\n",
            "112/112 [==============================] - 2s 20ms/step - loss: 0.0012 - mae: 0.0247\n",
            "Epoch 61/200\n",
            "112/112 [==============================] - 2s 20ms/step - loss: 0.0012 - mae: 0.0245\n",
            "Epoch 62/200\n",
            "112/112 [==============================] - 2s 20ms/step - loss: 0.0012 - mae: 0.0247\n",
            "Epoch 63/200\n",
            "112/112 [==============================] - 2s 20ms/step - loss: 0.0012 - mae: 0.0250\n",
            "Epoch 64/200\n",
            "112/112 [==============================] - 2s 20ms/step - loss: 0.0011 - mae: 0.0245\n",
            "Epoch 65/200\n",
            "112/112 [==============================] - 2s 20ms/step - loss: 0.0012 - mae: 0.0246\n",
            "Epoch 66/200\n",
            "112/112 [==============================] - 2s 20ms/step - loss: 0.0012 - mae: 0.0244\n",
            "Epoch 67/200\n",
            "112/112 [==============================] - 2s 20ms/step - loss: 0.0012 - mae: 0.0245\n",
            "Epoch 68/200\n",
            "112/112 [==============================] - 2s 20ms/step - loss: 0.0011 - mae: 0.0239\n",
            "Epoch 69/200\n",
            "112/112 [==============================] - 2s 20ms/step - loss: 0.0012 - mae: 0.0245\n",
            "Epoch 70/200\n",
            "112/112 [==============================] - 2s 20ms/step - loss: 0.0012 - mae: 0.0246\n",
            "Epoch 71/200\n",
            "112/112 [==============================] - 2s 20ms/step - loss: 0.0012 - mae: 0.0245\n",
            "Epoch 72/200\n",
            "112/112 [==============================] - 2s 20ms/step - loss: 0.0012 - mae: 0.0243\n",
            "Epoch 73/200\n",
            "112/112 [==============================] - 2s 20ms/step - loss: 0.0011 - mae: 0.0244\n",
            "Epoch 74/200\n",
            "112/112 [==============================] - 2s 20ms/step - loss: 0.0011 - mae: 0.0240\n",
            "Epoch 75/200\n",
            "112/112 [==============================] - 2s 20ms/step - loss: 0.0012 - mae: 0.0243\n",
            "Epoch 76/200\n",
            "112/112 [==============================] - 2s 20ms/step - loss: 0.0012 - mae: 0.0240\n",
            "Epoch 77/200\n",
            "112/112 [==============================] - 2s 20ms/step - loss: 0.0011 - mae: 0.0241\n",
            "Epoch 78/200\n",
            "112/112 [==============================] - 2s 20ms/step - loss: 0.0011 - mae: 0.0240\n",
            "Epoch 79/200\n",
            "112/112 [==============================] - 2s 20ms/step - loss: 0.0011 - mae: 0.0241\n",
            "Epoch 80/200\n",
            "112/112 [==============================] - 2s 20ms/step - loss: 0.0011 - mae: 0.0241\n",
            "Epoch 81/200\n",
            "112/112 [==============================] - 2s 20ms/step - loss: 0.0011 - mae: 0.0237\n",
            "Epoch 82/200\n",
            "112/112 [==============================] - 2s 20ms/step - loss: 0.0011 - mae: 0.0237\n",
            "Epoch 83/200\n",
            "112/112 [==============================] - 2s 20ms/step - loss: 0.0011 - mae: 0.0239\n",
            "Epoch 84/200\n",
            "112/112 [==============================] - 2s 20ms/step - loss: 0.0011 - mae: 0.0235\n",
            "Epoch 85/200\n",
            "112/112 [==============================] - 2s 20ms/step - loss: 0.0011 - mae: 0.0238\n",
            "Epoch 86/200\n",
            "112/112 [==============================] - 2s 20ms/step - loss: 0.0011 - mae: 0.0244\n",
            "Epoch 87/200\n",
            "112/112 [==============================] - 2s 20ms/step - loss: 0.0011 - mae: 0.0238\n",
            "Epoch 88/200\n",
            "112/112 [==============================] - 2s 20ms/step - loss: 0.0011 - mae: 0.0238\n",
            "Epoch 89/200\n",
            "112/112 [==============================] - 2s 20ms/step - loss: 0.0011 - mae: 0.0234\n",
            "Epoch 90/200\n",
            "112/112 [==============================] - 2s 20ms/step - loss: 0.0011 - mae: 0.0234\n",
            "Epoch 91/200\n",
            "112/112 [==============================] - 2s 20ms/step - loss: 0.0011 - mae: 0.0240\n",
            "Epoch 92/200\n",
            "112/112 [==============================] - 2s 20ms/step - loss: 0.0011 - mae: 0.0238\n",
            "Epoch 93/200\n",
            "112/112 [==============================] - 2s 20ms/step - loss: 0.0011 - mae: 0.0235\n",
            "Epoch 94/200\n",
            "112/112 [==============================] - 2s 20ms/step - loss: 0.0011 - mae: 0.0238\n",
            "Epoch 95/200\n",
            "112/112 [==============================] - 2s 20ms/step - loss: 0.0011 - mae: 0.0236\n",
            "Epoch 96/200\n",
            "112/112 [==============================] - 2s 20ms/step - loss: 0.0010 - mae: 0.0233\n",
            "Epoch 97/200\n",
            "112/112 [==============================] - 2s 20ms/step - loss: 0.0011 - mae: 0.0240\n",
            "Epoch 98/200\n",
            "112/112 [==============================] - 2s 20ms/step - loss: 0.0010 - mae: 0.0232\n",
            "Epoch 99/200\n",
            "112/112 [==============================] - 2s 20ms/step - loss: 0.0011 - mae: 0.0235\n",
            "Epoch 100/200\n",
            "112/112 [==============================] - 2s 20ms/step - loss: 0.0011 - mae: 0.0238\n",
            "Epoch 101/200\n",
            "112/112 [==============================] - 2s 20ms/step - loss: 0.0010 - mae: 0.0232\n",
            "Epoch 102/200\n",
            "112/112 [==============================] - 2s 20ms/step - loss: 0.0011 - mae: 0.0235\n",
            "Epoch 103/200\n",
            "112/112 [==============================] - 2s 20ms/step - loss: 0.0010 - mae: 0.0232\n",
            "Epoch 104/200\n",
            "112/112 [==============================] - 2s 20ms/step - loss: 0.0010 - mae: 0.0228\n",
            "Epoch 105/200\n",
            "112/112 [==============================] - 2s 20ms/step - loss: 0.0011 - mae: 0.0234\n",
            "Epoch 106/200\n",
            "112/112 [==============================] - 2s 20ms/step - loss: 0.0011 - mae: 0.0234\n",
            "Epoch 107/200\n",
            "112/112 [==============================] - 2s 20ms/step - loss: 0.0011 - mae: 0.0233\n",
            "Epoch 108/200\n",
            "112/112 [==============================] - 2s 20ms/step - loss: 0.0011 - mae: 0.0234\n",
            "Epoch 109/200\n",
            "112/112 [==============================] - 2s 20ms/step - loss: 0.0011 - mae: 0.0234\n",
            "Epoch 110/200\n",
            "112/112 [==============================] - 2s 20ms/step - loss: 0.0011 - mae: 0.0230\n",
            "Epoch 111/200\n",
            "112/112 [==============================] - 2s 20ms/step - loss: 0.0010 - mae: 0.0233\n",
            "Epoch 112/200\n",
            "112/112 [==============================] - 2s 20ms/step - loss: 0.0011 - mae: 0.0230\n",
            "Epoch 113/200\n",
            "112/112 [==============================] - 2s 20ms/step - loss: 0.0010 - mae: 0.0230\n",
            "Epoch 114/200\n",
            "112/112 [==============================] - 2s 20ms/step - loss: 0.0010 - mae: 0.0228\n",
            "Epoch 115/200\n",
            "112/112 [==============================] - 2s 20ms/step - loss: 9.9353e-04 - mae: 0.0227\n",
            "Epoch 116/200\n",
            "112/112 [==============================] - 2s 20ms/step - loss: 0.0011 - mae: 0.0232\n",
            "Epoch 117/200\n",
            "112/112 [==============================] - 2s 20ms/step - loss: 0.0010 - mae: 0.0231\n",
            "Epoch 118/200\n",
            "112/112 [==============================] - 2s 20ms/step - loss: 0.0010 - mae: 0.0232\n",
            "Epoch 119/200\n",
            "112/112 [==============================] - 2s 20ms/step - loss: 0.0010 - mae: 0.0231\n",
            "Epoch 120/200\n",
            "112/112 [==============================] - 2s 20ms/step - loss: 0.0010 - mae: 0.0227\n",
            "Epoch 121/200\n",
            "112/112 [==============================] - 2s 20ms/step - loss: 0.0010 - mae: 0.0230\n",
            "Epoch 122/200\n",
            "112/112 [==============================] - 2s 20ms/step - loss: 0.0010 - mae: 0.0227\n",
            "Epoch 123/200\n",
            "112/112 [==============================] - 2s 20ms/step - loss: 9.9420e-04 - mae: 0.0226\n",
            "Epoch 124/200\n",
            "112/112 [==============================] - 2s 20ms/step - loss: 0.0010 - mae: 0.0230\n",
            "Epoch 125/200\n",
            "112/112 [==============================] - 2s 20ms/step - loss: 0.0010 - mae: 0.0228\n",
            "Epoch 126/200\n",
            "112/112 [==============================] - 2s 20ms/step - loss: 9.6368e-04 - mae: 0.0224\n",
            "Epoch 127/200\n",
            "112/112 [==============================] - 2s 20ms/step - loss: 9.9262e-04 - mae: 0.0227\n",
            "Epoch 128/200\n",
            "112/112 [==============================] - 2s 20ms/step - loss: 9.7822e-04 - mae: 0.0225\n",
            "Epoch 129/200\n",
            "112/112 [==============================] - 2s 20ms/step - loss: 0.0010 - mae: 0.0230\n",
            "Epoch 130/200\n",
            "112/112 [==============================] - 2s 20ms/step - loss: 9.9363e-04 - mae: 0.0225\n",
            "Epoch 131/200\n",
            "112/112 [==============================] - 2s 20ms/step - loss: 0.0010 - mae: 0.0231\n",
            "Epoch 132/200\n",
            "112/112 [==============================] - 2s 20ms/step - loss: 0.0010 - mae: 0.0228\n",
            "Epoch 133/200\n",
            "112/112 [==============================] - 2s 20ms/step - loss: 0.0010 - mae: 0.0223\n",
            "Epoch 134/200\n",
            "112/112 [==============================] - 2s 21ms/step - loss: 0.0010 - mae: 0.0227\n",
            "Epoch 135/200\n",
            "112/112 [==============================] - 2s 20ms/step - loss: 9.9549e-04 - mae: 0.0226\n",
            "Epoch 136/200\n",
            "112/112 [==============================] - 2s 20ms/step - loss: 9.7921e-04 - mae: 0.0224\n",
            "Epoch 137/200\n",
            "112/112 [==============================] - 2s 20ms/step - loss: 9.5854e-04 - mae: 0.0224\n",
            "Epoch 138/200\n",
            "112/112 [==============================] - 2s 20ms/step - loss: 0.0010 - mae: 0.0231\n",
            "Epoch 139/200\n",
            "112/112 [==============================] - 2s 20ms/step - loss: 9.5975e-04 - mae: 0.0223\n",
            "Epoch 140/200\n",
            "112/112 [==============================] - 2s 20ms/step - loss: 9.9880e-04 - mae: 0.0225\n",
            "Epoch 141/200\n",
            "112/112 [==============================] - 2s 20ms/step - loss: 9.9179e-04 - mae: 0.0226\n",
            "Epoch 142/200\n",
            "112/112 [==============================] - 2s 20ms/step - loss: 9.7375e-04 - mae: 0.0222\n",
            "Epoch 143/200\n",
            "112/112 [==============================] - 2s 20ms/step - loss: 9.9203e-04 - mae: 0.0223\n",
            "Epoch 144/200\n",
            "112/112 [==============================] - 2s 20ms/step - loss: 9.8512e-04 - mae: 0.0226\n",
            "Epoch 145/200\n",
            "112/112 [==============================] - 2s 20ms/step - loss: 9.7206e-04 - mae: 0.0225\n",
            "Epoch 146/200\n",
            "112/112 [==============================] - 2s 20ms/step - loss: 9.8711e-04 - mae: 0.0222\n",
            "Epoch 147/200\n",
            "112/112 [==============================] - 2s 20ms/step - loss: 9.7786e-04 - mae: 0.0224\n",
            "Epoch 148/200\n",
            "112/112 [==============================] - 2s 20ms/step - loss: 9.6130e-04 - mae: 0.0221\n",
            "Epoch 149/200\n",
            "112/112 [==============================] - 2s 20ms/step - loss: 9.6710e-04 - mae: 0.0221\n",
            "Epoch 150/200\n",
            "112/112 [==============================] - 2s 20ms/step - loss: 9.7562e-04 - mae: 0.0224\n",
            "Epoch 151/200\n",
            "112/112 [==============================] - 2s 20ms/step - loss: 9.7703e-04 - mae: 0.0225\n",
            "Epoch 152/200\n",
            "112/112 [==============================] - 2s 20ms/step - loss: 9.8053e-04 - mae: 0.0222\n",
            "Epoch 153/200\n",
            "112/112 [==============================] - 2s 20ms/step - loss: 9.7377e-04 - mae: 0.0224\n",
            "Epoch 154/200\n",
            "112/112 [==============================] - 2s 20ms/step - loss: 9.5397e-04 - mae: 0.0216\n",
            "Epoch 155/200\n",
            "112/112 [==============================] - 2s 20ms/step - loss: 9.7400e-04 - mae: 0.0221\n",
            "Epoch 156/200\n",
            "112/112 [==============================] - 2s 20ms/step - loss: 0.0010 - mae: 0.0223\n",
            "Epoch 157/200\n",
            "112/112 [==============================] - 2s 20ms/step - loss: 9.6575e-04 - mae: 0.0225\n",
            "Epoch 158/200\n",
            "112/112 [==============================] - 2s 20ms/step - loss: 9.0762e-04 - mae: 0.0216\n",
            "Epoch 159/200\n",
            "112/112 [==============================] - 2s 20ms/step - loss: 9.4049e-04 - mae: 0.0220\n",
            "Epoch 160/200\n",
            "112/112 [==============================] - 2s 20ms/step - loss: 9.6086e-04 - mae: 0.0222\n",
            "Epoch 161/200\n",
            "112/112 [==============================] - 2s 20ms/step - loss: 9.4126e-04 - mae: 0.0220\n",
            "Epoch 162/200\n",
            "112/112 [==============================] - 2s 20ms/step - loss: 9.7185e-04 - mae: 0.0221\n",
            "Epoch 163/200\n",
            "112/112 [==============================] - 2s 20ms/step - loss: 0.0010 - mae: 0.0223\n",
            "Epoch 164/200\n",
            "112/112 [==============================] - 2s 20ms/step - loss: 9.5055e-04 - mae: 0.0218\n",
            "Epoch 165/200\n",
            "112/112 [==============================] - 2s 20ms/step - loss: 9.9811e-04 - mae: 0.0223\n",
            "Epoch 166/200\n",
            "112/112 [==============================] - 2s 20ms/step - loss: 9.9280e-04 - mae: 0.0222\n",
            "Epoch 167/200\n",
            "112/112 [==============================] - 2s 20ms/step - loss: 9.8071e-04 - mae: 0.0222\n",
            "Epoch 168/200\n",
            "112/112 [==============================] - 2s 20ms/step - loss: 9.1305e-04 - mae: 0.0217\n",
            "Epoch 169/200\n",
            "112/112 [==============================] - 2s 20ms/step - loss: 9.0939e-04 - mae: 0.0215\n",
            "Epoch 170/200\n",
            "112/112 [==============================] - 2s 20ms/step - loss: 9.4324e-04 - mae: 0.0220\n",
            "Epoch 171/200\n",
            "112/112 [==============================] - 2s 20ms/step - loss: 9.4086e-04 - mae: 0.0220\n",
            "Epoch 172/200\n",
            "112/112 [==============================] - 2s 20ms/step - loss: 9.1517e-04 - mae: 0.0217\n",
            "Epoch 173/200\n",
            "112/112 [==============================] - 2s 20ms/step - loss: 9.6151e-04 - mae: 0.0223\n",
            "Epoch 174/200\n",
            "112/112 [==============================] - 2s 20ms/step - loss: 9.3857e-04 - mae: 0.0218\n",
            "Epoch 175/200\n",
            "112/112 [==============================] - 2s 20ms/step - loss: 9.4179e-04 - mae: 0.0219\n",
            "Epoch 176/200\n",
            "112/112 [==============================] - 2s 20ms/step - loss: 9.3274e-04 - mae: 0.0220\n",
            "Epoch 177/200\n",
            "112/112 [==============================] - 2s 20ms/step - loss: 9.5768e-04 - mae: 0.0219\n",
            "Epoch 178/200\n",
            "112/112 [==============================] - 2s 20ms/step - loss: 9.0107e-04 - mae: 0.0216\n",
            "Epoch 179/200\n",
            "112/112 [==============================] - 2s 20ms/step - loss: 9.7293e-04 - mae: 0.0220\n",
            "Epoch 180/200\n",
            "112/112 [==============================] - 2s 20ms/step - loss: 9.1528e-04 - mae: 0.0217\n",
            "Epoch 181/200\n",
            "112/112 [==============================] - 2s 20ms/step - loss: 8.7717e-04 - mae: 0.0211\n",
            "Epoch 182/200\n",
            "112/112 [==============================] - 2s 20ms/step - loss: 9.0725e-04 - mae: 0.0215\n",
            "Epoch 183/200\n",
            "112/112 [==============================] - 2s 20ms/step - loss: 8.9833e-04 - mae: 0.0215\n",
            "Epoch 184/200\n",
            "112/112 [==============================] - 2s 20ms/step - loss: 9.5791e-04 - mae: 0.0219\n",
            "Epoch 185/200\n",
            "112/112 [==============================] - 2s 20ms/step - loss: 9.3320e-04 - mae: 0.0217\n",
            "Epoch 186/200\n",
            "112/112 [==============================] - 2s 20ms/step - loss: 9.0744e-04 - mae: 0.0214\n",
            "Epoch 187/200\n",
            "112/112 [==============================] - 2s 20ms/step - loss: 9.1464e-04 - mae: 0.0216\n",
            "Epoch 188/200\n",
            "112/112 [==============================] - 2s 20ms/step - loss: 9.4249e-04 - mae: 0.0219\n",
            "Epoch 189/200\n",
            "112/112 [==============================] - 2s 20ms/step - loss: 9.1635e-04 - mae: 0.0216\n",
            "Epoch 190/200\n",
            "112/112 [==============================] - 2s 20ms/step - loss: 9.0489e-04 - mae: 0.0216\n",
            "Epoch 191/200\n",
            "112/112 [==============================] - 2s 20ms/step - loss: 8.9104e-04 - mae: 0.0214\n",
            "Epoch 192/200\n",
            "112/112 [==============================] - 2s 20ms/step - loss: 9.4128e-04 - mae: 0.0217\n",
            "Epoch 193/200\n",
            "112/112 [==============================] - 2s 20ms/step - loss: 9.1098e-04 - mae: 0.0216\n",
            "Epoch 194/200\n",
            "112/112 [==============================] - 2s 20ms/step - loss: 8.9915e-04 - mae: 0.0216\n",
            "Epoch 195/200\n",
            "112/112 [==============================] - 2s 20ms/step - loss: 8.8402e-04 - mae: 0.0213\n",
            "Epoch 196/200\n",
            "112/112 [==============================] - 2s 20ms/step - loss: 9.4442e-04 - mae: 0.0217\n",
            "Epoch 197/200\n",
            "112/112 [==============================] - 2s 20ms/step - loss: 9.0867e-04 - mae: 0.0215\n",
            "Epoch 198/200\n",
            "112/112 [==============================] - 2s 20ms/step - loss: 8.8522e-04 - mae: 0.0211\n",
            "Epoch 199/200\n",
            "112/112 [==============================] - 2s 20ms/step - loss: 8.9284e-04 - mae: 0.0214\n",
            "Epoch 200/200\n",
            "112/112 [==============================] - 2s 20ms/step - loss: 8.6185e-04 - mae: 0.0211\n"
          ],
          "name": "stdout"
        }
      ]
    },
    {
      "cell_type": "markdown",
      "metadata": {
        "id": "fBFX1yHemU-J",
        "colab_type": "text"
      },
      "source": [
        "### Prepação para testar o modelo"
      ]
    },
    {
      "cell_type": "code",
      "metadata": {
        "id": "eYj7S0RttMXd",
        "colab_type": "code",
        "colab": {}
      },
      "source": [
        "# Normalização do conjunto de teste\n",
        "scaler2 = MinMaxScaler(feature_range=(0,1))\n",
        "scaler2 = scaler2.fit(test_data)\n",
        "\n",
        "normalized_test = scaler2.transform(test_data)"
      ],
      "execution_count": 35,
      "outputs": []
    },
    {
      "cell_type": "code",
      "metadata": {
        "id": "aC5k0yFihIws",
        "colab_type": "code",
        "colab": {}
      },
      "source": [
        "# Criação de janelas\n",
        "\n",
        "x_test=[]\n",
        "y_test = []\n",
        "for i in range(207,len(test_data)):\n",
        "    x_test.append(normalized_test[i-207:i,0])\n",
        "    y_test.append(normalized_test[i,0])"
      ],
      "execution_count": 36,
      "outputs": []
    },
    {
      "cell_type": "code",
      "metadata": {
        "id": "T2Rrd2D_iZvK",
        "colab_type": "code",
        "colab": {}
      },
      "source": [
        "x_test = np.array(x_test)\n",
        "y_test = np.array(y_test)"
      ],
      "execution_count": 37,
      "outputs": []
    },
    {
      "cell_type": "code",
      "metadata": {
        "id": "NlJVbxN0H8cg",
        "colab_type": "code",
        "colab": {}
      },
      "source": [
        "x_test = np.reshape(x_test, (x_test.shape[0],x_test.shape[1],1))"
      ],
      "execution_count": 38,
      "outputs": []
    },
    {
      "cell_type": "code",
      "metadata": {
        "id": "ssDvqELdIE-a",
        "colab_type": "code",
        "colab": {
          "base_uri": "https://localhost:8080/",
          "height": 34
        },
        "outputId": "fee98212-92f0-4871-e827-01b173ef4dd5"
      },
      "source": [
        "x_test.shape"
      ],
      "execution_count": 39,
      "outputs": [
        {
          "output_type": "execute_result",
          "data": {
            "text/plain": [
              "(1050, 207, 1)"
            ]
          },
          "metadata": {
            "tags": []
          },
          "execution_count": 39
        }
      ]
    },
    {
      "cell_type": "code",
      "metadata": {
        "id": "tk_rR9Wphl1G",
        "colab_type": "code",
        "colab": {}
      },
      "source": [
        "# Previsão do modelo\n",
        "\n",
        "predicted = model.predict(x_test)"
      ],
      "execution_count": 40,
      "outputs": []
    },
    {
      "cell_type": "code",
      "metadata": {
        "id": "RPaVeGpiiARw",
        "colab_type": "code",
        "colab": {}
      },
      "source": [
        "predicted = scaler2.inverse_transform(predicted)"
      ],
      "execution_count": 41,
      "outputs": []
    },
    {
      "cell_type": "code",
      "metadata": {
        "id": "8Olo7FSR9Br5",
        "colab_type": "code",
        "colab": {}
      },
      "source": [
        "y_test = np.reshape(y_test, (y_test.shape[0],1))\n",
        "y_test = scaler2.inverse_transform(y_test)"
      ],
      "execution_count": 42,
      "outputs": []
    },
    {
      "cell_type": "code",
      "metadata": {
        "id": "jPMXhPPjKLpi",
        "colab_type": "code",
        "colab": {
          "base_uri": "https://localhost:8080/",
          "height": 52
        },
        "outputId": "671f50a1-485a-4827-d6be-5e3f88988b06"
      },
      "source": [
        "from sklearn.metrics import mean_absolute_error\n",
        "\n",
        "\n",
        "mae = mean_absolute_error(predicted, y_test)\n",
        "print('MAE: ' + str(round(mae, 1)))\n",
        "\n",
        "# Calculate the root mean squarred error (RMSE)\n",
        "rmse = np.sqrt(np.mean(predicted - y_test)**2)\n",
        "print('RMSE: ' + str(round(rmse, 1)))"
      ],
      "execution_count": 43,
      "outputs": [
        {
          "output_type": "stream",
          "text": [
            "MAE: 1.1\n",
            "RMSE: 0.3\n"
          ],
          "name": "stdout"
        }
      ]
    },
    {
      "cell_type": "markdown",
      "metadata": {
        "id": "I9hTlwGIm61Y",
        "colab_type": "text"
      },
      "source": [
        "### Plotagem dos resultados"
      ]
    },
    {
      "cell_type": "code",
      "metadata": {
        "id": "btHOK_VzrOYZ",
        "colab_type": "code",
        "colab": {
          "base_uri": "https://localhost:8080/",
          "height": 592
        },
        "outputId": "61b54377-de00-4406-be23-7cc20d44298e"
      },
      "source": [
        "plt.figure(figsize=(22,10))\n",
        "plt.plot(predicted)\n",
        "plt.plot(y_test)\n",
        "plt.show()"
      ],
      "execution_count": 44,
      "outputs": [
        {
          "output_type": "display_data",
          "data": {
            "image/png": "[encoded data removed]",
            "text/plain": [
              "<Figure size 1584x720 with 1 Axes>"
            ]
          },
          "metadata": {
            "tags": [],
            "needs_background": "light"
          }
        }
      ]
    },
    {
      "cell_type": "code",
      "metadata": {
        "id": "VHgxF1NZrn6u",
        "colab_type": "code",
        "colab": {
          "base_uri": "https://localhost:8080/",
          "height": 159
        },
        "outputId": "1f699a29-4a0f-4325-ffbb-074419b2a664"
      },
      "source": [
        "model.save('my_model')"
      ],
      "execution_count": 48,
      "outputs": [
        {
          "output_type": "stream",
          "text": [
            "WARNING:tensorflow:From /usr/local/lib/python3.6/dist-packages/tensorflow/python/training/tracking/tracking.py:111: Model.state_updates (from tensorflow.python.keras.engine.training) is deprecated and will be removed in a future version.\n",
            "Instructions for updating:\n",
            "This property should not be used in TensorFlow 2.0, as updates are applied automatically.\n",
            "WARNING:tensorflow:From /usr/local/lib/python3.6/dist-packages/tensorflow/python/training/tracking/tracking.py:111: Layer.updates (from tensorflow.python.keras.engine.base_layer) is deprecated and will be removed in a future version.\n",
            "Instructions for updating:\n",
            "This property should not be used in TensorFlow 2.0, as updates are applied automatically.\n",
            "INFO:tensorflow:Assets written to: my_model/assets\n"
          ],
          "name": "stdout"
        }
      ]
    },
    {
      "cell_type": "code",
      "metadata": {
        "id": "EGOgX27PykWD",
        "colab_type": "code",
        "colab": {}
      },
      "source": [
        "\n",
        "predicted_data = pd.DataFrame(predicted)\n"
      ],
      "execution_count": 45,
      "outputs": []
    },
    {
      "cell_type": "code",
      "metadata": {
        "id": "QpqjbHoB1HhR",
        "colab_type": "code",
        "colab": {
          "base_uri": "https://localhost:8080/",
          "height": 34
        },
        "outputId": "088bd9de-bd41-4eba-e9f0-f7f0d94c3d84"
      },
      "source": [
        "type(predicted_data)"
      ],
      "execution_count": 46,
      "outputs": [
        {
          "output_type": "execute_result",
          "data": {
            "text/plain": [
              "pandas.core.frame.DataFrame"
            ]
          },
          "metadata": {
            "tags": []
          },
          "execution_count": 46
        }
      ]
    },
    {
      "cell_type": "code",
      "metadata": {
        "id": "rJJ9A78F1Lta",
        "colab_type": "code",
        "colab": {}
      },
      "source": [
        "predicted_data.to_csv('predicted_petr4_temp.csv')"
      ],
      "execution_count": 47,
      "outputs": []
    },
    {
      "cell_type": "code",
      "metadata": {
        "id": "s4wCWyHt4V23",
        "colab_type": "code",
        "colab": {}
      },
      "source": [
        ""
      ],
      "execution_count": null,
      "outputs": []
    }
  ]
}